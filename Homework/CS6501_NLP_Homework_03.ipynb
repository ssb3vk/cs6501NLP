{
  "cells": [
    {
      "cell_type": "markdown",
      "metadata": {
        "id": "8d68aa93"
      },
      "source": [
        "Submission Deadline: __November 20, 2023; 11:59 PM__\n",
        "\n",
        "A penalty will be applied for late submission. Please refer to the course policy for more detail.  \n",
        "\n",
        "## Instructions\n",
        "\n",
        "Please read the instructions carefully before you start working on the homework.\n",
        "\n",
        "- Please follow instructions and printed out the results as required. Keep the printed results and your implementation for grading purpose.\n",
        "    - The TAs will not run your code for grading purpose unless it is necessary. That means, you may lose some points if the printed results are not in the submitted file.\n",
        "- Submission should be via Canvas.\n",
        "    - If you use Google Colab for running the code, please download the file and submit it via Canvas once it's done.\n",
        "    - Submission via a Google Colab link will be considered as an invalid submission.\n",
        "- Please double check the submitted file once you upload it to Canvas.\n",
        "    - Students should be responsible for checking whether they submit the right files.\n",
        "    - Re-submission is not allowed once the deadline is passed.\n",
        "\n",
        "Also, if you missed the class lectures, please study the course materials first before working on the homework. It may save you some time."
      ],
      "id": "8d68aa93"
    },
    {
      "cell_type": "markdown",
      "metadata": {
        "id": "6befbf22"
      },
      "source": [
        "# Homework 03 Language Modeling"
      ],
      "id": "6befbf22"
    },
    {
      "cell_type": "code",
      "execution_count": null,
      "metadata": {
        "id": "JIY9K6nS5wyo",
        "outputId": "4479b267-07f5-4f3c-f51f-eee0638b7c3e"
      },
      "outputs": [
        {
          "name": "stdout",
          "output_type": "stream",
          "text": [
            "Copy_of_HW_03.ipynb\n",
            "Copy_of_HW_03_overfitted.ipynb\n",
            "embedding_dim100hidden_size100num_layers2lr0.0001epochs1000\n",
            "embedding_dim100hidden_size100num_layers2lr0.001\n",
            "embedding_dim200hidden_size100num_layers2lr0.0001epochs50\n",
            "embedding_dim250hidden_size512num_layers2lr0.001epochs100shuffled\n",
            "wiki\n",
            "wiki.zip\n"
          ]
        },
        {
          "ename": "FileNotFoundError",
          "evalue": "[Errno 2] No such file or directory: 'NLP'",
          "output_type": "error",
          "traceback": [
            "\u001b[0;31m---------------------------------------------------------------------------\u001b[0m",
            "\u001b[0;31mFileNotFoundError\u001b[0m                         Traceback (most recent call last)",
            "\u001b[0;32m<ipython-input-1-9bfad49baa06>\u001b[0m in \u001b[0;36m<module>\u001b[0;34m\u001b[0m\n\u001b[1;32m      2\u001b[0m \u001b[0;34m\u001b[0m\u001b[0m\n\u001b[1;32m      3\u001b[0m \u001b[0mget_ipython\u001b[0m\u001b[0;34m(\u001b[0m\u001b[0;34m)\u001b[0m\u001b[0;34m.\u001b[0m\u001b[0msystem\u001b[0m\u001b[0;34m(\u001b[0m\u001b[0;34m'ls'\u001b[0m\u001b[0;34m)\u001b[0m\u001b[0;34m\u001b[0m\u001b[0;34m\u001b[0m\u001b[0m\n\u001b[0;32m----> 4\u001b[0;31m \u001b[0mcd\u001b[0m\u001b[0;34m(\u001b[0m\u001b[0;34m'NLP'\u001b[0m\u001b[0;34m)\u001b[0m\u001b[0;34m\u001b[0m\u001b[0;34m\u001b[0m\u001b[0m\n\u001b[0m\u001b[1;32m      5\u001b[0m \u001b[0mget_ipython\u001b[0m\u001b[0;34m(\u001b[0m\u001b[0;34m)\u001b[0m\u001b[0;34m.\u001b[0m\u001b[0msystem\u001b[0m\u001b[0;34m(\u001b[0m\u001b[0;34m'pwd'\u001b[0m\u001b[0;34m)\u001b[0m\u001b[0;34m\u001b[0m\u001b[0;34m\u001b[0m\u001b[0m\n",
            "\u001b[0;31mFileNotFoundError\u001b[0m: [Errno 2] No such file or directory: 'NLP'"
          ]
        }
      ],
      "source": [
        "from os import chdir as cd\n",
        "\n",
        "!ls\n",
        "cd('NLP')\n",
        "!pwd"
      ],
      "id": "JIY9K6nS5wyo"
    },
    {
      "cell_type": "code",
      "execution_count": null,
      "metadata": {
        "colab": {
          "base_uri": "https://localhost:8080/"
        },
        "id": "7a43e246",
        "outputId": "0966b42c-2faa-463f-aaf6-9697e5b23fa5"
      },
      "outputs": [
        {
          "name": "stdout",
          "output_type": "stream",
          "text": [
            "Defaulting to user installation because normal site-packages is not writeable\n",
            "Requirement already satisfied: tokenizers in /sfs/qumulo/qhome/ssb3vk/.local/lib/python3.8/site-packages (0.15.0)\n",
            "Requirement already satisfied: huggingface_hub<1.0,>=0.16.4 in /sfs/qumulo/qhome/ssb3vk/.local/lib/python3.8/site-packages (from tokenizers) (0.19.4)\n",
            "Requirement already satisfied: pyyaml>=5.1 in /sfs/applications/202307/software/standard/compiler/gcc/9.2.0/jupyter_conda/2020.11-py3.8/lib/python3.8/site-packages (from huggingface_hub<1.0,>=0.16.4->tokenizers) (5.3.1)\n",
            "Requirement already satisfied: requests in /sfs/applications/202307/software/standard/compiler/gcc/9.2.0/jupyter_conda/2020.11-py3.8/lib/python3.8/site-packages (from huggingface_hub<1.0,>=0.16.4->tokenizers) (2.24.0)\n",
            "Requirement already satisfied: tqdm>=4.42.1 in /sfs/qumulo/qhome/ssb3vk/.local/lib/python3.8/site-packages (from huggingface_hub<1.0,>=0.16.4->tokenizers) (4.66.1)\n",
            "Requirement already satisfied: typing-extensions>=3.7.4.3 in /sfs/qumulo/qhome/ssb3vk/.local/lib/python3.8/site-packages (from huggingface_hub<1.0,>=0.16.4->tokenizers) (4.3.0)\n",
            "Requirement already satisfied: fsspec>=2023.5.0 in /sfs/qumulo/qhome/ssb3vk/.local/lib/python3.8/site-packages (from huggingface_hub<1.0,>=0.16.4->tokenizers) (2023.10.0)\n",
            "Requirement already satisfied: filelock in /sfs/qumulo/qhome/ssb3vk/.local/lib/python3.8/site-packages (from huggingface_hub<1.0,>=0.16.4->tokenizers) (3.13.1)\n",
            "Requirement already satisfied: packaging>=20.9 in /sfs/qumulo/qhome/ssb3vk/.local/lib/python3.8/site-packages (from huggingface_hub<1.0,>=0.16.4->tokenizers) (23.2)\n",
            "Requirement already satisfied: certifi>=2017.4.17 in /sfs/applications/202307/software/standard/compiler/gcc/9.2.0/jupyter_conda/2020.11-py3.8/lib/python3.8/site-packages (from requests->huggingface_hub<1.0,>=0.16.4->tokenizers) (2021.10.8)\n",
            "Requirement already satisfied: idna<3,>=2.5 in /sfs/applications/202307/software/standard/compiler/gcc/9.2.0/jupyter_conda/2020.11-py3.8/lib/python3.8/site-packages (from requests->huggingface_hub<1.0,>=0.16.4->tokenizers) (2.10)\n",
            "Requirement already satisfied: chardet<4,>=3.0.2 in /sfs/applications/202307/software/standard/compiler/gcc/9.2.0/jupyter_conda/2020.11-py3.8/lib/python3.8/site-packages (from requests->huggingface_hub<1.0,>=0.16.4->tokenizers) (3.0.4)\n",
            "Requirement already satisfied: urllib3!=1.25.0,!=1.25.1,<1.26,>=1.21.1 in /sfs/qumulo/qhome/ssb3vk/.local/lib/python3.8/site-packages (from requests->huggingface_hub<1.0,>=0.16.4->tokenizers) (1.25.11)\n",
            "Defaulting to user installation because normal site-packages is not writeable\n",
            "Requirement already satisfied: datasets in /sfs/qumulo/qhome/ssb3vk/.local/lib/python3.8/site-packages (2.15.0)\n",
            "Requirement already satisfied: fsspec[http]<=2023.10.0,>=2023.1.0 in /sfs/qumulo/qhome/ssb3vk/.local/lib/python3.8/site-packages (from datasets) (2023.10.0)\n",
            "Requirement already satisfied: packaging in /sfs/qumulo/qhome/ssb3vk/.local/lib/python3.8/site-packages (from datasets) (23.2)\n",
            "Requirement already satisfied: aiohttp in /sfs/qumulo/qhome/ssb3vk/.local/lib/python3.8/site-packages (from datasets) (3.9.0)\n",
            "Requirement already satisfied: dill<0.3.8,>=0.3.0 in /sfs/qumulo/qhome/ssb3vk/.local/lib/python3.8/site-packages (from datasets) (0.3.7)\n",
            "Requirement already satisfied: multiprocess in /sfs/qumulo/qhome/ssb3vk/.local/lib/python3.8/site-packages (from datasets) (0.70.15)\n",
            "Requirement already satisfied: huggingface-hub>=0.18.0 in /sfs/qumulo/qhome/ssb3vk/.local/lib/python3.8/site-packages (from datasets) (0.19.4)\n",
            "Requirement already satisfied: pyarrow>=8.0.0 in /sfs/qumulo/qhome/ssb3vk/.local/lib/python3.8/site-packages (from datasets) (14.0.1)\n",
            "Requirement already satisfied: tqdm>=4.62.1 in /sfs/qumulo/qhome/ssb3vk/.local/lib/python3.8/site-packages (from datasets) (4.66.1)\n",
            "Requirement already satisfied: xxhash in /sfs/qumulo/qhome/ssb3vk/.local/lib/python3.8/site-packages (from datasets) (3.4.1)\n",
            "Requirement already satisfied: pyarrow-hotfix in /sfs/qumulo/qhome/ssb3vk/.local/lib/python3.8/site-packages (from datasets) (0.5)\n",
            "Requirement already satisfied: pyyaml>=5.1 in /sfs/applications/202307/software/standard/compiler/gcc/9.2.0/jupyter_conda/2020.11-py3.8/lib/python3.8/site-packages (from datasets) (5.3.1)\n",
            "Requirement already satisfied: pandas in /sfs/applications/202307/software/standard/compiler/gcc/9.2.0/jupyter_conda/2020.11-py3.8/lib/python3.8/site-packages (from datasets) (1.1.3)\n",
            "Requirement already satisfied: requests>=2.19.0 in /sfs/applications/202307/software/standard/compiler/gcc/9.2.0/jupyter_conda/2020.11-py3.8/lib/python3.8/site-packages (from datasets) (2.24.0)\n",
            "Requirement already satisfied: numpy>=1.17 in /sfs/applications/202307/software/standard/compiler/gcc/9.2.0/jupyter_conda/2020.11-py3.8/lib/python3.8/site-packages (from datasets) (1.19.2)\n",
            "Requirement already satisfied: async-timeout<5.0,>=4.0; python_version < \"3.11\" in /sfs/qumulo/qhome/ssb3vk/.local/lib/python3.8/site-packages (from aiohttp->datasets) (4.0.3)\n",
            "Requirement already satisfied: attrs>=17.3.0 in /sfs/applications/202307/software/standard/compiler/gcc/9.2.0/jupyter_conda/2020.11-py3.8/lib/python3.8/site-packages (from aiohttp->datasets) (20.3.0)\n",
            "Requirement already satisfied: aiosignal>=1.1.2 in /sfs/qumulo/qhome/ssb3vk/.local/lib/python3.8/site-packages (from aiohttp->datasets) (1.3.1)\n",
            "Requirement already satisfied: frozenlist>=1.1.1 in /sfs/qumulo/qhome/ssb3vk/.local/lib/python3.8/site-packages (from aiohttp->datasets) (1.4.0)\n",
            "Requirement already satisfied: yarl<2.0,>=1.0 in /sfs/qumulo/qhome/ssb3vk/.local/lib/python3.8/site-packages (from aiohttp->datasets) (1.9.2)\n",
            "Requirement already satisfied: multidict<7.0,>=4.5 in /sfs/qumulo/qhome/ssb3vk/.local/lib/python3.8/site-packages (from aiohttp->datasets) (6.0.4)\n",
            "Requirement already satisfied: filelock in /sfs/qumulo/qhome/ssb3vk/.local/lib/python3.8/site-packages (from huggingface-hub>=0.18.0->datasets) (3.13.1)\n",
            "Requirement already satisfied: typing-extensions>=3.7.4.3 in /sfs/qumulo/qhome/ssb3vk/.local/lib/python3.8/site-packages (from huggingface-hub>=0.18.0->datasets) (4.3.0)\n",
            "Requirement already satisfied: python-dateutil>=2.7.3 in /sfs/applications/202307/software/standard/compiler/gcc/9.2.0/jupyter_conda/2020.11-py3.8/lib/python3.8/site-packages (from pandas->datasets) (2.8.1)\n",
            "Requirement already satisfied: pytz>=2017.2 in /sfs/applications/202307/software/standard/compiler/gcc/9.2.0/jupyter_conda/2020.11-py3.8/lib/python3.8/site-packages (from pandas->datasets) (2020.1)\n",
            "Requirement already satisfied: idna<3,>=2.5 in /sfs/applications/202307/software/standard/compiler/gcc/9.2.0/jupyter_conda/2020.11-py3.8/lib/python3.8/site-packages (from requests>=2.19.0->datasets) (2.10)\n",
            "Requirement already satisfied: urllib3!=1.25.0,!=1.25.1,<1.26,>=1.21.1 in /sfs/qumulo/qhome/ssb3vk/.local/lib/python3.8/site-packages (from requests>=2.19.0->datasets) (1.25.11)\n",
            "Requirement already satisfied: chardet<4,>=3.0.2 in /sfs/applications/202307/software/standard/compiler/gcc/9.2.0/jupyter_conda/2020.11-py3.8/lib/python3.8/site-packages (from requests>=2.19.0->datasets) (3.0.4)\n",
            "Requirement already satisfied: certifi>=2017.4.17 in /sfs/applications/202307/software/standard/compiler/gcc/9.2.0/jupyter_conda/2020.11-py3.8/lib/python3.8/site-packages (from requests>=2.19.0->datasets) (2021.10.8)\n",
            "Requirement already satisfied: six>=1.5 in /sfs/applications/202307/software/standard/compiler/gcc/9.2.0/jupyter_conda/2020.11-py3.8/lib/python3.8/site-packages (from python-dateutil>=2.7.3->pandas->datasets) (1.15.0)\n"
          ]
        }
      ],
      "source": [
        "! pip install livelossplot --quiet\n",
        "! pip install tokenizers\n",
        "! pip install datasets"
      ],
      "id": "7a43e246"
    },
    {
      "cell_type": "code",
      "execution_count": null,
      "metadata": {
        "id": "13ef94bb"
      },
      "outputs": [],
      "source": [
        "from typing import List, Tuple, Callable\n",
        "import nltk\n",
        "import matplotlib.pyplot as plt\n",
        "import seaborn as sns\n",
        "from tqdm import tqdm\n",
        "from nltk.util import ngrams\n",
        "from nltk.lm import MLE\n",
        "from nltk.tokenize import word_tokenize\n",
        "import string as string\n",
        "from nltk.util import ngrams\n",
        "import numpy as np\n",
        "\n",
        "import pickle"
      ],
      "id": "13ef94bb"
    },
    {
      "cell_type": "markdown",
      "metadata": {
        "id": "5911d1ff"
      },
      "source": [
        "# Task: Language Modeling"
      ],
      "id": "5911d1ff"
    },
    {
      "cell_type": "markdown",
      "metadata": {
        "id": "ebe9d7ad"
      },
      "source": [
        "Language modeling is a task in natural language processing where the goal is to predict the next word in a sequence of words. Given a sequence of words as input, the model predicts the probability distribution over the vocabulary for the next word. The output is a label representing the most likely next word.\n",
        "\n",
        "For instance, if the input sequence is \"the quick brown fox\", the model will predict the probability distribution over the vocabulary for the next word, which could be \"jumped\", \"ran\", or any other word in the language.\n",
        "\n",
        "In this assignment, we will perform language modeling using the [WikiText dataset](https://blog.salesforceairesearch.com/the-wikitext-long-term-dependency-language-modeling-dataset/), which contains a large collection of text from Wikipedia articles. The task involves training models to generate coherent and contextually appropriate text, making it a fundamental problem in natural language processing.\n"
      ],
      "id": "ebe9d7ad"
    },
    {
      "cell_type": "markdown",
      "metadata": {
        "id": "d5d2fc14"
      },
      "source": [
        "# 1: N-Gram Language Modeling:  \n",
        "\n",
        "In the context of n-grams, language modeling involes estimating the likelihood of a sequence of words/tokens based on the history of preceding words.\n",
        "\n",
        "\n",
        "The goal of this portion of the assignment is to implement n-gram language models for values of $n \\in [ 2, 4, 8]$, generate sample text, and calculate the perplexity of each n-gram model on the train set."
      ],
      "id": "d5d2fc14"
    },
    {
      "cell_type": "code",
      "execution_count": null,
      "metadata": {
        "colab": {
          "base_uri": "https://localhost:8080/"
        },
        "id": "eb318baa",
        "outputId": "44d80aa1-3798-44e7-ae1b-8668771af15a"
      },
      "outputs": [
        {
          "name": "stdout",
          "output_type": "stream",
          "text": [
            "Archive:  wiki.zip\n",
            "   creating: wiki/\n",
            "  inflating: wiki/dev-wiki.txt       \n",
            "  inflating: wiki/test-wiki.txt      \n",
            "  inflating: wiki/trn-wiki.txt       \n",
            "Done\n"
          ]
        }
      ],
      "source": [
        "# Download the data\n",
        "!rm -rf wiki wiki.zip\n",
        "import urllib.request\n",
        "url = \"https://yangfengji.net/uva-nlp-grad/data/wiki.zip\"\n",
        "filename, headers = urllib.request.urlretrieve(url, filename=\"wiki.zip\")\n",
        "!unzip wiki.zip\n",
        "print(\"Done\")"
      ],
      "id": "eb318baa"
    },
    {
      "cell_type": "markdown",
      "metadata": {
        "id": "ca3e1fba"
      },
      "source": [
        "## 1.1 Data Preprocessing : (2 points)\n",
        "\n",
        "###### Complete the following code block to create the tokenizer necessary for the proceeeding experiments\n",
        "\n",
        "- Create the train tokenizer with the following properties\n",
        "    - Add a special **\\<unk\\>** token to replace any OOV tokens\n",
        "    - Replace numeric tokens with the **\\<num\\>** token\n",
        "    - Remove punctuation and symbols\n",
        "    - Ensure the tokenizer prepends a **\\<bos\\>** and appends an **\\<eos\\>** token to every sequence\n",
        "    \n",
        "- Train the tokenizer on the train set of Wiki-Text\n",
        "\n",
        "Please\n",
        "\n",
        "- Print the vocabulary size of the tokenizer, using a necessary description of the printed result\n",
        "- **N.B.** You may want to make use of the [huggingface tokenizer docs.](https://huggingface.co/docs/tokenizers/components)"
      ],
      "id": "ca3e1fba"
    },
    {
      "cell_type": "code",
      "execution_count": null,
      "metadata": {
        "id": "1dadb078"
      },
      "outputs": [],
      "source": [
        "import tokenizers\n",
        "from tokenizers.pre_tokenizers import WhitespaceSplit\n",
        "from tokenizers import Tokenizer, Regex, normalizers\n",
        "from tokenizers.models import WordLevel\n",
        "from tokenizers.trainers import WordLevelTrainer\n",
        "from tokenizers.processors import TemplateProcessing\n",
        "\n",
        "from tokenizers.pre_tokenizers import Whitespace, Digits"
      ],
      "id": "1dadb078"
    },
    {
      "cell_type": "code",
      "execution_count": null,
      "metadata": {
        "id": "66861330"
      },
      "outputs": [],
      "source": [
        "# define the tokenizer with the help of the huggingface docs:\n",
        "# https://huggingface.co/docs/tokenizers/index\n",
        "def train_tokenizer(fname: str) -> tokenizers.Tokenizer:\n",
        "    \"\"\"\n",
        "    Args:\n",
        "        fname: the name of the wiki.txt file\n",
        "\n",
        "    Returns: Huggingface Tokenizer\n",
        "    \"\"\"\n",
        "    PAD_TOKEN = '<pad>'\n",
        "    UNK_TOKEN = '<unk>'\n",
        "    NUM_TOKEN = '<num>'\n",
        "    START_TOKEN= '<bos>'\n",
        "    END_TOKEN= '<eos>'\n",
        "    tokenizer = Tokenizer(WordLevel(unk_token=UNK_TOKEN))\n",
        "    # =============================\n",
        "    # TODO:\n",
        "\n",
        "    tokenizer.add_special_tokens([PAD_TOKEN,\n",
        "                                  UNK_TOKEN,\n",
        "                                  NUM_TOKEN,\n",
        "                                  START_TOKEN,\n",
        "                                  END_TOKEN])\n",
        "\n",
        "    tokenizer.pre_tokenizer = WhitespaceSplit()\n",
        "\n",
        "    tokenizer.normalizer = normalizers.Sequence([normalizers.Lowercase(),\n",
        "                                       normalizers.Replace(Regex('[^\\w\\s]+'), \"\"),\n",
        "                                       normalizers.Replace(Regex('\\d+'), NUM_TOKEN)\n",
        "                                      ])\n",
        "\n",
        "\n",
        "    tokenizer.post_processor = TemplateProcessing(\n",
        "        single= START_TOKEN + \" $0 \" + END_TOKEN,\n",
        "        pair=START_TOKEN + \" $A \" + END_TOKEN + \" $B:1 \" + END_TOKEN + \":1\",\n",
        "        special_tokens=[(START_TOKEN, tokenizer.token_to_id(START_TOKEN)), (END_TOKEN, tokenizer.token_to_id(END_TOKEN))],\n",
        "    )\n",
        "\n",
        "    trainer = WordLevelTrainer(special_tokens=[PAD_TOKEN,\n",
        "                                            UNK_TOKEN,\n",
        "                                            NUM_TOKEN,\n",
        "                                            START_TOKEN,\n",
        "                                            END_TOKEN])\n",
        "\n",
        "    tokenizer.train([fname], trainer)\n",
        "\n",
        "    return tokenizer\n"
      ],
      "id": "66861330"
    },
    {
      "cell_type": "code",
      "execution_count": null,
      "metadata": {
        "id": "7ae93002"
      },
      "outputs": [],
      "source": [
        "# =============================\n",
        "# TODO: Train the tokenizer\n",
        "trained_tokenizer = train_tokenizer(\"wiki/trn-wiki.txt\")"
      ],
      "id": "7ae93002"
    },
    {
      "cell_type": "code",
      "execution_count": null,
      "metadata": {
        "colab": {
          "base_uri": "https://localhost:8080/"
        },
        "id": "8232d914",
        "outputId": "0818d8aa-8b05-4341-db93-41a040990065"
      },
      "outputs": [
        {
          "data": {
            "text/plain": [
              "27419"
            ]
          },
          "execution_count": 8,
          "metadata": {},
          "output_type": "execute_result"
        }
      ],
      "source": [
        "# =============================\n",
        "# TODO: Print the Vocab size\n",
        "trained_tokenizer.get_vocab_size()"
      ],
      "id": "8232d914"
    },
    {
      "cell_type": "code",
      "execution_count": null,
      "metadata": {
        "id": "8edcc30b"
      },
      "outputs": [],
      "source": [
        "def sanity_check(tokenizer: tokenizers.Tokenizer,\n",
        "                sample_text: str):\n",
        "    \"\"\"\n",
        "    Args:\n",
        "    \"\"\"\n",
        "    try:\n",
        "        tokens = tokenizer.encode(sample_text).tokens\n",
        "        assert tokens[0] == '<bos>'\n",
        "        assert tokens[-1] == '<eos>'\n",
        "        assert len(tokens) == len(sample_text.split(' ')) + 2\n",
        "        assert all(token.islower() for token in tokens)\n",
        "        print('Sanity Check Passed')\n",
        "        print(tokens)\n",
        "    except AssertionError as e:\n",
        "        print('Tokenizer failed sanity check')\n",
        "        print(tokens)\n",
        "    return"
      ],
      "id": "8edcc30b"
    },
    {
      "cell_type": "code",
      "execution_count": null,
      "metadata": {
        "colab": {
          "base_uri": "https://localhost:8080/"
        },
        "id": "355f61ce",
        "outputId": "e4500cd1-e010-4dff-df69-d744062d3761"
      },
      "outputs": [
        {
          "name": "stdout",
          "output_type": "stream",
          "text": [
            "Sanity Check Passed\n",
            "['<bos>', 'the', 'quick', 'brown', 'fox', 'jumped', 'over', 'the', 'lazy', 'dog', '<eos>']\n"
          ]
        }
      ],
      "source": [
        "sample_text='The quick brown fox jumped over the lazy dog'\n",
        "sanity_check(trained_tokenizer, sample_text)"
      ],
      "id": "355f61ce"
    },
    {
      "cell_type": "markdown",
      "metadata": {
        "id": "46b274af"
      },
      "source": [
        "# 1.2 Train the N-Gram Model : (2 pts)  \n",
        "\n",
        "If the tokenizer passed the basic sanity check then proceed.\n",
        "\n",
        "**TODO**\n",
        " - Train n-gram models for $n \\in \\{ 2, 4, 6, 8, 10\\}$\n",
        " - Complete the get_ngrams function below, to return a list of all the n-grams\n",
        "     - Each entry in this list represents all the n-grams for a given sentence\n",
        " - For each n-gram model, fit the model to it respective set of n-grams"
      ],
      "id": "46b274af"
    },
    {
      "cell_type": "code",
      "execution_count": null,
      "metadata": {
        "id": "749aa424"
      },
      "outputs": [],
      "source": [
        "def get_ngrams(fname: str,\n",
        "                  tokenizer: tokenizers.Tokenizer,\n",
        "                    n: int) -> List[str]:\n",
        "    \"\"\"\n",
        "    Args:\n",
        "        fname:\n",
        "\n",
        "    Returns:\n",
        "        all_ngrams: list of all n-grams\n",
        "        for all sentences\n",
        "    \"\"\"\n",
        "    all_ngrams = []\n",
        "    # =============================\n",
        "    # TODO: implement the function\n",
        "    #       to get the ngrams for\n",
        "    #       all the sentences\n",
        "\n",
        "    all_ngrams = []\n",
        "    with open(fname, \"r\") as file:\n",
        "      # lets collect by paragraph\n",
        "      paragraph = \"\"\n",
        "\n",
        "      for line in file:\n",
        "        if line.strip() == \"\":\n",
        "          if paragraph:\n",
        "            tokenized_paragraph = tokenizer.encode(paragraph).tokens\n",
        "\n",
        "            ngram_tuples = list(ngrams(tokenized_paragraph, n))\n",
        "            if len(ngram_tuples) == 0:\n",
        "              continue\n",
        "\n",
        "            all_ngrams.append(ngram_tuples)\n",
        "\n",
        "            paragraph = \"\"\n",
        "        else:\n",
        "          paragraph += \" \" + line.strip()\n",
        "\n",
        "      if paragraph:\n",
        "        tokenized_paragraph = tokenizer.encode(paragraph).tokens\n",
        "        ngram_tuples = list(ngrams(tokenized_paragraph, n))\n",
        "        if len(ngram_tuples) != 0:\n",
        "          all_ngrams.append(ngram_tuples)\n",
        "\n",
        "\n",
        "    return all_ngrams"
      ],
      "id": "749aa424"
    },
    {
      "cell_type": "code",
      "execution_count": null,
      "metadata": {
        "colab": {
          "base_uri": "https://localhost:8080/"
        },
        "id": "aCS_gKB2-gTP",
        "outputId": "39e6d02a-8dfb-4f71-87c5-18e4b2933cfc"
      },
      "outputs": [
        {
          "name": "stdout",
          "output_type": "stream",
          "text": [
            "retinue\n",
            "[('<bos>', 'senjō'), ('senjō', 'no'), ('no', 'valkyria'), ('valkyria', '<num>'), ('<num>', '<unk>'), ('<unk>', 'chronicles'), ('chronicles', 'japanese'), ('japanese', '戦場のヴァルキュリア<num>'), ('戦場のヴァルキュリア<num>', 'lit'), ('lit', 'valkyria'), ('valkyria', 'of'), ('of', 'the'), ('the', 'battlefield'), ('battlefield', '<num>'), ('<num>', 'commonly'), ('commonly', 'referred'), ('referred', 'to'), ('to', 'as'), ('as', 'valkyria'), ('valkyria', 'chronicles'), ('chronicles', 'iii'), ('iii', 'outside'), ('outside', 'japan'), ('japan', 'is'), ('is', 'a'), ('a', 'tactical'), ('tactical', 'role'), ('role', 'playing'), ('playing', 'video'), ('video', 'game'), ('game', 'developed'), ('developed', 'by'), ('by', 'sega'), ('sega', 'and'), ('and', 'mediavision'), ('mediavision', 'for'), ('for', 'the'), ('the', 'playstation'), ('playstation', 'portable'), ('portable', 'released'), ('released', 'in'), ('in', 'january'), ('january', '<num>'), ('<num>', 'in'), ('in', 'japan'), ('japan', 'it'), ('it', 'is'), ('is', 'the'), ('the', 'third'), ('third', 'game'), ('game', 'in'), ('in', 'the'), ('the', 'valkyria'), ('valkyria', 'series'), ('series', '<unk>'), ('<unk>', 'the'), ('the', 'same'), ('same', 'fusion'), ('fusion', 'of'), ('of', 'tactical'), ('tactical', 'and'), ('and', 'real'), ('real', 'time'), ('time', 'gameplay'), ('gameplay', 'as'), ('as', 'its'), ('its', 'predecessors'), ('predecessors', 'the'), ('the', 'story'), ('story', 'runs'), ('runs', 'parallel'), ('parallel', 'to'), ('to', 'the'), ('the', 'first'), ('first', 'game'), ('game', 'and'), ('and', 'follows'), ('follows', 'the'), ('the', 'nameless'), ('nameless', 'a'), ('a', 'penal'), ('penal', 'military'), ('military', 'unit'), ('unit', 'serving'), ('serving', 'the'), ('the', 'nation'), ('nation', 'of'), ('of', 'gallia'), ('gallia', 'during'), ('during', 'the'), ('the', 'second'), ('second', 'europan'), ('europan', 'war'), ('war', 'who'), ('who', 'perform'), ('perform', 'secret'), ('secret', 'black'), ('black', 'operations'), ('operations', 'and'), ('and', 'are'), ('are', 'pitted'), ('pitted', 'against'), ('against', 'the'), ('the', 'imperial'), ('imperial', 'unit'), ('unit', '<unk>'), ('<unk>', 'raven'), ('raven', '<eos>')]\n",
            "<class 'str'>\n",
            "<class 'list'>\n"
          ]
        }
      ],
      "source": [
        "created_ngrams=get_ngrams('wiki/trn-wiki.txt', trained_tokenizer, 2)\n",
        "vocabulary = list(trained_tokenizer.get_vocab().keys())\n",
        "print(vocabulary[0])\n",
        "print(created_ngrams[1])\n",
        "\n",
        "print(type(vocabulary[0]))\n",
        "print(type(created_ngrams[0]))"
      ],
      "id": "aCS_gKB2-gTP"
    },
    {
      "cell_type": "code",
      "execution_count": null,
      "metadata": {
        "colab": {
          "base_uri": "https://localhost:8080/"
        },
        "id": "52Lt2yJrg9oN",
        "outputId": "0e99a271-825e-447d-9021-47f08baba554"
      },
      "outputs": [
        {
          "data": {
            "text/plain": [
              "['the',\n",
              " 'catholic',\n",
              " 'with',\n",
              " '<unk>',\n",
              " 'latex',\n",
              " 'and',\n",
              " 'ambitious',\n",
              " 'attempt',\n",
              " 'to',\n",
              " 'alaska']"
            ]
          },
          "execution_count": 13,
          "metadata": {},
          "output_type": "execute_result"
        }
      ],
      "source": [
        "# =============================\n",
        "# TODO: Train the n-gram models\n",
        "\n",
        "# I think for this we use the nltk.lm MLE model.\n",
        "# lets also try generating some text with the trained model\n",
        "\n",
        "\n",
        "model = MLE(2)\n",
        "model.fit(get_ngrams('wiki/trn-wiki.txt', trained_tokenizer, 2),\n",
        "          trained_tokenizer.get_vocab().keys())\n",
        "model.generate(num_words=10, text_seed=['referred', 'to'])"
      ],
      "id": "52Lt2yJrg9oN"
    },
    {
      "cell_type": "markdown",
      "metadata": {
        "id": "ea825a80"
      },
      "source": [
        "# 1.3  Compute N-Gram Perplexity  (2 pts)\n",
        "\n",
        "### Perplexity is a measure of how well a given distribution predicts a sample. In the context of language modeling, the perplexity is based on how well the model predicts a given corpus. The formula for computing perplexity-per-word of an n-gram model is given by:  \n",
        "\n",
        "$$\\text{PPW} = 2^{\\frac{1}{W} \\sum_{i=1}^{N} H(p, q)}$$\n",
        "\n",
        "where: $$ H(p, q) = -\\sum_{x} p(x) log(q()) $$\n",
        "\n",
        "$H(p,q)$ may be interpreted as the cross-entropy between the distributions. However, for the n-gram model, nltk provides a [function which computes the perplexity](https://www.nltk.org/api/nltk.lm.api.html#nltk.lm.api.LanguageModel.perplexity).\n",
        "\n",
        "**TODO**\n",
        "- $\\text{For n} \\in \\{2, 4, 6, 8 ,1 0\\}$, compute the perplexity of each n-gram model on the train set\n",
        "- You will need the $\\texttt{get_ngrams}$ function in your $\\texttt{ngram_perplexity}$ function"
      ],
      "id": "ea825a80"
    },
    {
      "cell_type": "code",
      "execution_count": null,
      "metadata": {
        "id": "9bedffb0"
      },
      "outputs": [],
      "source": [
        "from nltk.lm import vocabulary\n",
        "from itertools import chain\n",
        "\n",
        "def ngram_perplexity(fname: str,\n",
        "                     n:int,\n",
        "                    tokenizer: tokenizers.Tokenizer,\n",
        "                    ) -> float:\n",
        "    \"\"\"\n",
        "    Arg:\n",
        "\n",
        "    Returns:\n",
        "    \"\"\"\n",
        "    # =============================\n",
        "    # TODO: Implement the function\n",
        "    #       to compute perplexity for a given\n",
        "    #       n-gram model\n",
        "\n",
        "    ngrams=get_ngrams('wiki/trn-wiki.txt', tokenizer, n)\n",
        "    vocabulary = list(tokenizer.get_vocab().keys())\n",
        "\n",
        "    model = MLE(n)\n",
        "    model.fit(ngrams, vocabulary)\n",
        "\n",
        "    test_ngrams = get_ngrams(fname, tokenizer, n)\n",
        "\n",
        "    flattend=list(chain.from_iterable(test_ngrams))\n",
        "\n",
        "    return model.perplexity(flattend)"
      ],
      "id": "9bedffb0"
    },
    {
      "cell_type": "code",
      "execution_count": null,
      "metadata": {
        "colab": {
          "base_uri": "https://localhost:8080/"
        },
        "id": "5f1118d1",
        "outputId": "548e983e-46b6-47ba-fe98-27d878dc9715"
      },
      "outputs": [
        {
          "name": "stdout",
          "output_type": "stream",
          "text": [
            "1.7656531261909916\n"
          ]
        }
      ],
      "source": [
        "#\n",
        "# =============================\n",
        "# TODO: compute the perplexity for varying values of n\n",
        "perplexity_value=ngram_perplexity('wiki/trn-wiki.txt', 4, trained_tokenizer)\n",
        "print(perplexity_value)"
      ],
      "id": "5f1118d1"
    },
    {
      "cell_type": "markdown",
      "metadata": {
        "id": "fce83dfb"
      },
      "source": [
        "# 1.4 Plot N-gram Size vs Perplexity : (2 pts)  \n",
        "\n",
        "**TODO**:\n",
        " - $\\text{For n} \\in \\{2, 4, 6, 8 ,1 0\\}$ plot the N-Gram size vs Perplexity for each of the n-gram models"
      ],
      "id": "fce83dfb"
    },
    {
      "cell_type": "code",
      "execution_count": null,
      "metadata": {
        "id": "16e116ef"
      },
      "outputs": [],
      "source": [
        "# =============================\n",
        "# TODO: create the plots\n",
        "\n",
        "ngram_lengths = [2, 4, 6, 8, 10]\n",
        "perplexities = []\n",
        "\n",
        "for n in ngram_lengths:\n",
        "  perplexities.append(ngram_perplexity('wiki/trn-wiki.txt', n, trained_tokenizer))\n"
      ],
      "id": "16e116ef"
    },
    {
      "cell_type": "code",
      "execution_count": null,
      "metadata": {
        "colab": {
          "base_uri": "https://localhost:8080/",
          "height": 472
        },
        "id": "1PDO9hDmtMXh",
        "outputId": "3fd0e342-9a45-44d9-dd41-27e0b6d837fb"
      },
      "outputs": [
        {
          "data": {
            "image/png": "[encoded data removed]",
            "text/plain": [
              "<Figure size 432x288 with 1 Axes>"
            ]
          },
          "metadata": {
            "needs_background": "light"
          },
          "output_type": "display_data"
        }
      ],
      "source": [
        "plt.plot(ngram_lengths, perplexities)\n",
        "plt.xlabel('Ngram Length')\n",
        "plt.ylabel('Perplexity')\n",
        "plt.title('Perplexity vs Ngram Length')\n",
        "plt.show()"
      ],
      "id": "1PDO9hDmtMXh"
    },
    {
      "cell_type": "markdown",
      "metadata": {
        "id": "5864add1"
      },
      "source": [
        "# 1.4 Interpretation of N-gram Size vs Perplexity : (1 pt)  \n",
        "\n",
        "**TODO**: In the Markdown cell below, explain the effect you observe, why do you think this is the case?"
      ],
      "id": "5864add1"
    },
    {
      "cell_type": "markdown",
      "metadata": {
        "id": "VGGUEhHasx6F"
      },
      "source": [
        "This [Stanford textbook](https://web.stanford.edu/~jurafsky/slp3/3.pdf) has a really good explanation of Perplexity that made a lot of sense to me.\n",
        "\n",
        "Perplexity is the **weighted average branching factor** of a language. So its the number of next possible words that can follow a given word. So as we increase the number of n-grams within our model, we are gauranteed to see a decrease in perplexity. Because in our larger-gram models, we have \"more strict\" sequences where a word is seen.\n",
        "\n",
        "Because of the context that higher-gram models offer, models can apply this context into their computations of selecting the next word. This can better inform the probabilities of their next words, concentrating the probabilities among fewer words and decreasing perplexity."
      ],
      "id": "VGGUEhHasx6F"
    },
    {
      "cell_type": "markdown",
      "metadata": {
        "id": "f8d2eaa0"
      },
      "source": [
        "# Simple RNN LM"
      ],
      "id": "f8d2eaa0"
    },
    {
      "cell_type": "markdown",
      "metadata": {
        "id": "71c1b23e"
      },
      "source": [
        "# 2.1 Train a Recurrent Neural Network on the Train Set of Wiki-Text\n",
        "## Preprocessing (1pt)\n",
        "\n",
        "**TODO**\n",
        "- use the tokenizer to preprocess the text and create the necessary dataloaders\n",
        "- enable padding for the tokenizer"
      ],
      "id": "71c1b23e"
    },
    {
      "cell_type": "code",
      "execution_count": null,
      "metadata": {
        "id": "bd1adb4c"
      },
      "outputs": [],
      "source": [
        "import torch\n",
        "import torch.nn as nn\n",
        "from livelossplot import PlotLosses\n",
        "import math\n",
        "\n",
        "plotlosses = PlotLosses()"
      ],
      "id": "bd1adb4c"
    },
    {
      "cell_type": "code",
      "execution_count": null,
      "metadata": {
        "id": "f2e8c996",
        "outputId": "0e81a802-9e14-481b-82c9-a79b97c2d193"
      },
      "outputs": [
        {
          "name": "stdout",
          "output_type": "stream",
          "text": [
            "CUDA is available. Using GPU.\n"
          ]
        }
      ],
      "source": [
        "# Check if CUDA is available\n",
        "if torch.cuda.is_available():\n",
        "    device = torch.device(\"cuda\")\n",
        "    print(\"CUDA is available. Using GPU.\")\n",
        "else:\n",
        "    device = torch.device(\"cpu\")\n",
        "    print(\"CUDA is not available. Using CPU.\")\n",
        "# device = torch.device(\"cpu\")"
      ],
      "id": "f2e8c996"
    },
    {
      "cell_type": "code",
      "execution_count": null,
      "metadata": {
        "id": "92042ea0"
      },
      "outputs": [],
      "source": [
        "# =============================\n",
        "# TODO: enable padding for tokenizer\n",
        "trained_tokenizer.enable_padding(\n",
        "    pad_id=trained_tokenizer.token_to_id(\"<pad>\"),\n",
        "    pad_token=\"<pad>\")"
      ],
      "id": "92042ea0"
    },
    {
      "cell_type": "code",
      "execution_count": null,
      "metadata": {
        "id": "41f27da2"
      },
      "outputs": [],
      "source": [
        "#https://huggingface.co/docs/datasets/loading_datasets.html\n",
        "from datasets import load_dataset\n",
        "import torch.utils\n",
        "dataset = load_dataset('text', data_files={'train': 'wiki/trn-wiki.txt', 'dev': 'wiki/dev-wiki.txt'})"
      ],
      "id": "41f27da2"
    },
    {
      "cell_type": "markdown",
      "metadata": {
        "id": "efaec245"
      },
      "source": [
        "## 2.1.1 Dataloaders and Padding\n",
        "**TODO**\n",
        "- Create the train and dev_dataloaders"
      ],
      "id": "efaec245"
    },
    {
      "cell_type": "code",
      "execution_count": null,
      "metadata": {
        "id": "e24c26fb"
      },
      "outputs": [],
      "source": [
        "\n",
        "def collate(examples: List[str]) -> torch.Tensor:\n",
        "    \"\"\"\n",
        "    Args:\n",
        "        examples\n",
        "    \"\"\"\n",
        "    return torch.LongTensor([ex.ids for ex in trained_tokenizer.encode_batch(examples)])\n",
        "\n",
        "# =============================\n",
        "# TODO: define dataloaders\n",
        "\n",
        "\n",
        "trn_dataloader = torch.utils.data.DataLoader(dataset['train']['text'],\n",
        "                                             batch_size=32,\n",
        "                                             shuffle=True,\n",
        "                                             collate_fn=collate)\n",
        "dev_dataloader = torch.utils.data.DataLoader(dataset['dev']['text'],\n",
        "                                             batch_size=32,\n",
        "                                             shuffle=False,\n",
        "                                             collate_fn=collate)"
      ],
      "id": "e24c26fb"
    },
    {
      "cell_type": "markdown",
      "metadata": {
        "id": "b41ca226"
      },
      "source": [
        "## 2.1.2 RNN-Language Model Forward Pass\n",
        "## Define the Language Model (2 pts)\n",
        "**TODO**\n",
        "- Implement the forward pass of the RNN"
      ],
      "id": "b41ca226"
    },
    {
      "cell_type": "code",
      "execution_count": null,
      "metadata": {
        "id": "2cbfe2b1"
      },
      "outputs": [],
      "source": [
        "#TODO: Implement the Forward Pass\n",
        "class TokenRNN(nn.Module):\n",
        "    def __init__(self,\n",
        "                 vocab_size: int,\n",
        "                 embedding_dim: int,\n",
        "                 hidden_size: int,\n",
        "                 output_size: int,\n",
        "                 num_layers:int=1):\n",
        "        \"\"\"\n",
        "        Args:\n",
        "\n",
        "        \"\"\"\n",
        "        super(TokenRNN, self).__init__()\n",
        "        self.vocab_size_input = vocab_size\n",
        "        self.embedding = nn.Embedding(vocab_size, embedding_dim)\n",
        "        self.rnn = nn.LSTM(embedding_dim, hidden_size, num_layers, batch_first=True)\n",
        "        self.out = nn.Linear(hidden_size, vocab_size)\n",
        "\n",
        "    def forward(self,\n",
        "                x: torch.Tensor) -> torch.Tensor:\n",
        "        \"\"\"\n",
        "        Args:\n",
        "            x: input sequence of tokens\n",
        "\n",
        "        Returns:\n",
        "            output: probability distribution over the vocab\n",
        "                    for the next token at each time step\n",
        "        \"\"\"\n",
        "        # =============================\n",
        "        # TODO:\n",
        "\n",
        "#         print(\"Input max index:\", x.max().item())\n",
        "#         print(\"Input min index:\", x.min().item())\n",
        "#         assert x.max().item() < self.vocab_size_input, \"Index exceeds vocabulary size\"\n",
        "#         assert x.min().item() >= 0, \"Index less than 0\"\n",
        "\n",
        "\n",
        "        x = self.embedding(x)\n",
        "\n",
        "        x, _ = self.rnn(x)\n",
        "\n",
        "        # here:\n",
        "        # x = x.reshape(-1, x.shape[2])\n",
        "\n",
        "        x = self.out(x)\n",
        "\n",
        "        return x\n",
        "\n"
      ],
      "id": "2cbfe2b1"
    },
    {
      "cell_type": "code",
      "execution_count": null,
      "metadata": {
        "id": "12becb4b"
      },
      "outputs": [],
      "source": [
        "# =============================\n",
        "# TODO: Declare instance of TokenRNN\n",
        "# Define Hyperparameters\n",
        "\n",
        "inst = TokenRNN(vocab_size=trained_tokenizer.get_vocab_size() + 1,\n",
        "                embedding_dim=250,\n",
        "                hidden_size=512,\n",
        "                output_size=trained_tokenizer.get_vocab_size() + 1,\n",
        "                num_layers=2)"
      ],
      "id": "12becb4b"
    },
    {
      "cell_type": "markdown",
      "metadata": {
        "id": "54cded5c"
      },
      "source": [
        "## 2.1.3 Train the Model (2 pt)"
      ],
      "id": "54cded5c"
    },
    {
      "cell_type": "code",
      "execution_count": null,
      "metadata": {
        "id": "9f0c158f"
      },
      "outputs": [],
      "source": [
        "# TODO:\n",
        "def train(model: nn.Module,\n",
        "         dataloader: torch.utils.data.dataloader,\n",
        "         criterion: nn.modules.loss,\n",
        "         optimizer: torch.optim,\n",
        "         device: torch.device,\n",
        "         num_epochs: int) -> float:\n",
        "    \"\"\"\n",
        "    Args:\n",
        "        model:\n",
        "        dataloader:\n",
        "        criterion:\n",
        "        optimizer:\n",
        "        device:\n",
        "        num_epochs:\n",
        "\n",
        "    Return: final perplexity value after training\n",
        "\n",
        "    \"\"\"\n",
        "\n",
        "    # for RuntimeError: cuDNN error: CUDNN_STATUS_MAPPING_ERROR\n",
        "    # torch.backends.cudnn.enabled = False\n",
        "\n",
        "    for epoch in range(1, num_epochs+1):\n",
        "        logs = {}\n",
        "        model.train()\n",
        "        model = model.to(device)\n",
        "        total_loss = 0\n",
        "\n",
        "        for batch in dataloader:\n",
        "          # print(\"bob\")\n",
        "          # =============================\n",
        "          # TODO: Define training function\n",
        "\n",
        "          batch = batch.to(device)\n",
        "          inputs = batch[:, :-1]  # All except the last token\n",
        "          targets = batch[:, 1:]  # All except the first token\n",
        "\n",
        "          inputs = inputs.to(device)\n",
        "          targets = targets.to(device)\n",
        "\n",
        "          optimizer.zero_grad()  # Zero the gradients\n",
        "\n",
        "          # Forward pass\n",
        "          outputs = model(inputs)\n",
        "\n",
        "          # print(outputs.shape)\n",
        "          # print(targets.shape)\n",
        "\n",
        "          # Reshape outputs and targets for the criterion\n",
        "          # Outputs are likely of shape [batch_size, sequence_length, vocab_size]\n",
        "          # Targets are of shape [batch_size, sequence_length]\n",
        "          # Criterion expects inputs of shape [batch_size * sequence_length, vocab_size]\n",
        "          # and targets of shape [batch_size * sequence_length]\n",
        "          outputs = outputs.reshape(-1, outputs.shape[-1])\n",
        "          targets = targets.reshape(-1)\n",
        "\n",
        "          # print(outputs.shape)\n",
        "          # print(targets.shape)\n",
        "\n",
        "          # Compute loss\n",
        "          loss = criterion(outputs, targets)\n",
        "          # print(loss)\n",
        "          total_loss += loss.detach().item()\n",
        "\n",
        "          # Backward pass and optimize\n",
        "          loss.backward()\n",
        "          optimizer.step()\n",
        "\n",
        "        logs['loss'] = total_loss/len(dataloader)\n",
        "        logs['perplexity'] = math.exp(logs['loss'])\n",
        "        plotlosses.update(logs)\n",
        "        plotlosses.send()\n",
        "    average_loss = total_loss / len(dataloader)\n",
        "    final_perp = math.exp(average_loss)\n",
        "    return final_perp"
      ],
      "id": "9f0c158f"
    },
    {
      "cell_type": "code",
      "execution_count": null,
      "metadata": {
        "id": "4528d3c8",
        "scrolled": true,
        "outputId": "6850000a-86fb-42b4-fc44-0f2f1d102fb7"
      },
      "outputs": [
        {
          "data": {
            "image/png": "[encoded data removed]",
            "text/plain": [
              "<Figure size 864x576 with 2 Axes>"
            ]
          },
          "metadata": {
            "needs_background": "light"
          },
          "output_type": "display_data"
        },
        {
          "name": "stdout",
          "output_type": "stream",
          "text": [
            "Loss\n",
            "\tloss             \t (min:    0.690, max:    2.099, cur:    0.690)\n",
            "perplexity\n",
            "\tperplexity       \t (min:    1.994, max:    8.159, cur:    1.994)\n"
          ]
        }
      ],
      "source": [
        "# =============================\n",
        "# TODO: train the model\n",
        "criterion = nn.CrossEntropyLoss()\n",
        "optimizer = torch.optim.Adam(inst.parameters(), lr=0.001)\n",
        "\n",
        "num_epochs = 25\n",
        "\n",
        "# inst.to(device)\n",
        "model_train_perp = train(inst,\n",
        "                         trn_dataloader,\n",
        "                         criterion,\n",
        "                         optimizer,\n",
        "                         device,\n",
        "                         num_epochs)"
      ],
      "id": "4528d3c8"
    },
    {
      "cell_type": "code",
      "execution_count": null,
      "metadata": {
        "colab": {
          "base_uri": "https://localhost:8080/",
          "height": 210
        },
        "id": "2e182ac1",
        "outputId": "e113bba5-e4db-4d53-b7cf-240eed080be5"
      },
      "outputs": [
        {
          "name": "stdout",
          "output_type": "stream",
          "text": [
            "1.9942436329898596\n"
          ]
        }
      ],
      "source": [
        "# =============================\n",
        "# TODO: Report the final train perplexity\n",
        "print(model_train_perp)"
      ],
      "id": "2e182ac1"
    },
    {
      "cell_type": "code",
      "execution_count": null,
      "metadata": {
        "id": "2tTmp_Xy5wy5"
      },
      "outputs": [],
      "source": [
        "import pickle\n",
        "\n",
        "filename = \"final_model_embedding_dim_\" + str(250) + \"_hidden_size_\" + str(512) + \"_num_layers_\" + str(2) + \"_lr_0_001_\" + \"epochs_\" + str(25) + \"_shuffled\"\n",
        "pickle.dump(inst, open(filename, 'wb'))"
      ],
      "id": "2tTmp_Xy5wy5"
    },
    {
      "cell_type": "markdown",
      "metadata": {
        "id": "f985f14b"
      },
      "source": [
        "## 2.2  Evaluate Perplexity on the Validation Set (2 pts)\n",
        "**TODO**\n",
        "- Report the perplexity of the RNN on the validation set"
      ],
      "id": "f985f14b"
    },
    {
      "cell_type": "code",
      "execution_count": null,
      "metadata": {
        "id": "da5124d8"
      },
      "outputs": [],
      "source": [
        "# =============================\n",
        "# TODO: Report the perplexity on the Validation Set\n",
        "\n",
        "def compute_validation_perplexity(model: nn.Module,\n",
        "         dataloader: torch.utils.data.dataloader,\n",
        "         criterion: nn.modules.loss,\n",
        "         device: torch.device) -> float:\n",
        "    \"\"\"\n",
        "    Args:\n",
        "        model:\n",
        "        dataloader:\n",
        "        criterion:\n",
        "        device:\n",
        "\n",
        "    Return: final perplexity value after validation\n",
        "\n",
        "    \"\"\"\n",
        "    model.eval()\n",
        "    total_loss = 0\n",
        "    total_tokens = 0\n",
        "\n",
        "    with torch.no_grad():\n",
        "        for batch in dataloader:\n",
        "            batch = batch.to(device)\n",
        "            inputs = batch[:, :-1]  # All except the last token\n",
        "            targets = batch[:, 1:]  # All except the first token\n",
        "\n",
        "            inputs = inputs.to(device)\n",
        "            targets = targets.to(device)\n",
        "\n",
        "            # Forward pass\n",
        "            outputs = model(inputs)\n",
        "\n",
        "            # Reshape outputs and targets for the criterion\n",
        "            # Outputs are likely of shape [batch_size, sequence_length, vocab_size]\n",
        "            # Targets are of shape [batch_size, sequence_length]\n",
        "            # Criterion expects inputs of shape [batch_size * sequence_length, vocab_size]\n",
        "            # and targets of shape [batch_size * sequence_length]\n",
        "            outputs = outputs.reshape(-1, outputs.shape[-1])\n",
        "            targets = targets.reshape(-1)\n",
        "\n",
        "            # Compute loss\n",
        "            loss = criterion(outputs, targets)\n",
        "            # print(loss)\n",
        "            total_loss += loss.detach().item()\n",
        "\n",
        "    average_loss = total_loss / len(dataloader)\n",
        "    final_perp = math.exp(average_loss)\n",
        "    return final_perp\n",
        ""
      ],
      "id": "da5124d8"
    },
    {
      "cell_type": "code",
      "execution_count": null,
      "metadata": {
        "id": "3FjiGP-25wy5",
        "outputId": "faa84248-7ae5-4d57-93a0-4f691aa8092c"
      },
      "outputs": [
        {
          "name": "stdout",
          "output_type": "stream",
          "text": [
            "15.049178280946014\n"
          ]
        }
      ],
      "source": [
        "validation_perp = compute_validation_perplexity(inst, dev_dataloader, criterion, device)\n",
        "print(validation_perp)"
      ],
      "id": "3FjiGP-25wy5"
    },
    {
      "cell_type": "markdown",
      "metadata": {
        "id": "76ec499e"
      },
      "source": [
        "## Generating Sequences With the RNN (Extra: 1 pt)\n",
        "\n",
        "Temperature scaling allows us to adjust the level of stochasticity associated with the model predictions. We can introduce a temperature parameter to the softmax probability of a given token, via:\n",
        "\n",
        "$$ P(y_i) = \\frac{e^{z_i / T}}{\\sum_j e^{z_j / T}}$$\n",
        "\n",
        "Where:\n",
        " - $P(y_{i})$ is the probability of class i.\n",
        " - $z_{i}$ is the probability of class i.\n",
        " - T is the temperature parameter\n",
        "\n",
        "**TODO**\n",
        "\n",
        " - For temperature values in the range 1..10 (inclusive), seed the language model with a '\\<bos\\>' token and produce a sequence until the appropriate stopping condition occurs.\n",
        "\n",
        "- Plot the Temperature Value vs the Length of the Sequence Produced"
      ],
      "id": "76ec499e"
    },
    {
      "cell_type": "code",
      "execution_count": null,
      "metadata": {
        "id": "s1UBRBZ05wy6"
      },
      "outputs": [],
      "source": [
        "loaded_model = pickle.load(open(filename, 'rb'))"
      ],
      "id": "s1UBRBZ05wy6"
    },
    {
      "cell_type": "code",
      "execution_count": null,
      "metadata": {
        "id": "1RGBZ4Ke5wy6"
      },
      "outputs": [],
      "source": [
        "# generate based on using the collate function\n",
        "\n",
        "import torch.nn.functional as F\n",
        "\n",
        "def generate(model: nn.Module,\n",
        "            temperature:int,\n",
        "            tokenizer: tokenizers.Tokenizer,\n",
        "            device) -> str:\n",
        "    \"\"\"\n",
        "        Args:\n",
        "            model:\n",
        "            temperature: scale the logits\n",
        "    \"\"\"\n",
        "    sequence = []\n",
        "    # =============================\n",
        "    # TODO: Define the temperature-scaled\n",
        "    #       generation function\n",
        "\n",
        "    model.eval()\n",
        "    sequence.append('<bos>')\n",
        "\n",
        "    with torch.no_grad():\n",
        "        while True:\n",
        "            logits = model(collate(sequence).to(device))\n",
        "            scaled_logits = logits[0, -1, :] / temperature\n",
        "\n",
        "            probabilities = F.softmax(scaled_logits, dim=-1)\n",
        "            probabilities = probabilities.squeeze(0)\n",
        "\n",
        "            next_token_id = torch.multinomial(probabilities, num_samples=1)\n",
        "            next_token = tokenizer.decode([next_token_id[0].item()])\n",
        "\n",
        "            sequence.append(next_token)\n",
        "\n",
        "            if next_token == '<eos>' or next_token == '<pad>' or len(sequence) > 3000:\n",
        "                break\n",
        "    return ' '.join(sequence)"
      ],
      "id": "1RGBZ4Ke5wy6"
    },
    {
      "cell_type": "code",
      "execution_count": null,
      "metadata": {
        "id": "XDRMbJ5KfvdM",
        "outputId": "588fafac-4869-450a-d67a-8014a610dfa4"
      },
      "outputs": [
        {
          "name": "stdout",
          "output_type": "stream",
          "text": [
            "Generating sequence with temperature: 1\n"
          ]
        },
        {
          "name": "stderr",
          "output_type": "stream",
          "text": [
            "/home/ssb3vk/.local/lib/python3.8/site-packages/torch/nn/modules/rnn.py:879: UserWarning: RNN module weights are not part of single contiguous chunk of memory. This means they need to be compacted at every call, possibly greatly increasing memory usage. To compact weights again call flatten_parameters(). (Triggered internally at ../aten/src/ATen/native/cudnn/RNN.cpp:982.)\n",
            "  result = _VF.lstm(input, hx, self._flat_weights, self.bias, self.num_layers,\n"
          ]
        },
        {
          "name": "stdout",
          "output_type": "stream",
          "text": [
            "Generating sequence with temperature: 2\n",
            "Generating sequence with temperature: 3\n",
            "Generating sequence with temperature: 4\n",
            "Generating sequence with temperature: 5\n",
            "Generating sequence with temperature: 6\n",
            "Generating sequence with temperature: 7\n",
            "Generating sequence with temperature: 8\n",
            "Generating sequence with temperature: 9\n",
            "Generating sequence with temperature: 10\n"
          ]
        }
      ],
      "source": [
        "# =============================\n",
        "# TODO: Generate sequences of varying temperature (T) values\n",
        "generated_sequences = []\n",
        "for T in range(1, 11):\n",
        "    torch.cuda.empty_cache()\n",
        "    print(\"Generating sequence with temperature: {}\".format(T))\n",
        "    generated_sequences.append(\n",
        "        generate(loaded_model, T, trained_tokenizer, device)\n",
        "        )"
      ],
      "id": "XDRMbJ5KfvdM"
    },
    {
      "cell_type": "markdown",
      "metadata": {
        "id": "9e76c00c"
      },
      "source": [
        "#  Plot Temperature (T) vs Sequence Length (L) : what do you notice and why?"
      ],
      "id": "9e76c00c"
    },
    {
      "cell_type": "code",
      "execution_count": null,
      "metadata": {
        "id": "d5d73513",
        "outputId": "dc08e73c-3aad-44e9-9904-a2fec01475c4"
      },
      "outputs": [
        {
          "data": {
            "text/plain": [
              "Text(0, 0.5, 'Sequence Length (L)')"
            ]
          },
          "execution_count": 37,
          "metadata": {},
          "output_type": "execute_result"
        },
        {
          "data": {
            "image/png": "[encoded data removed]",
            "text/plain": [
              "<Figure size 432x288 with 1 Axes>"
            ]
          },
          "metadata": {
            "needs_background": "light"
          },
          "output_type": "display_data"
        }
      ],
      "source": [
        "# =============================\n",
        "# TODO: Plot T vs L\n",
        "\n",
        "T = [1, 2, 3, 4, 5, 6, 7, 8, 9, 10]\n",
        "\n",
        "\n",
        "\n",
        "plt.scatter(T, [len(seq.split()) for seq in generated_sequences])\n",
        "\n",
        "plt.title(\"Sequence Length (L) vs Temperature (T)\")\n",
        "plt.xlabel(\"Temperature (T)\")\n",
        "plt.ylabel(\"Sequence Length (L)\")"
      ],
      "id": "d5d73513"
    },
    {
      "cell_type": "markdown",
      "source": [
        "Here I notice a sigmoid curve in terms of sequence length vs temperature. I find this super interesting. From a \"simple\" view, we know that by increasing temperature, we flatten out the probability distribution. Words with high likelihood become less likely to be selected and words with low likelihood become more likely to be selected (relatively).\n",
        "\n",
        "So, for higher temperatures we are more likely to have long, meandering sequences. These sequences are more likely to be diverse and longer as the \"<eos>\" token is less likely to be selected.\n",
        "\n",
        "For lower temperatures, we enunciate tokens with larger probability more, leading to quickly-terminating sequences. As the model is more likely to select the common \"<eos>\" token.\n",
        "\n",
        "While this all tracks, why is the curve a near perfect sigmoid. Surely there must be something else occuring? I believe that this shape is due to the how the P(y_i) is formulated. Because we are modifying the natural power of the probability we generate the sigmoid shape. Let me demonstrate via the following Markov random walker.\n",
        "\n",
        "In this example we have only have two classes, the terminating class and the continuing class. We also use multiple different functions including:\n",
        "*   e^i\n",
        "*   i^2\n",
        "*   i^(1/2)\n",
        "*   1/i\n",
        "*   i"
      ],
      "metadata": {
        "id": "gN14dbbV8tZm"
      },
      "id": "gN14dbbV8tZm"
    },
    {
      "cell_type": "code",
      "source": [
        "import math\n",
        "import random\n",
        "import matplotlib.pyplot as plt\n",
        "\n",
        "probability_term = 19\n",
        "probability_cont = 1\n",
        "\n",
        "def nat_pow(i):\n",
        "  return math.exp(i)\n",
        "\n",
        "def square(i):\n",
        "  return i**2\n",
        "\n",
        "def root(i):\n",
        "  return i**(1/2)\n",
        "\n",
        "def inverse(i):\n",
        "  return 1 / i\n",
        "\n",
        "def identity(i):\n",
        "  return i\n",
        "\n",
        "functions = [nat_pow, square, root, inverse, identity]\n",
        "T = [1, 2, 3, 4, 5, 6, 7, 8, 9, 10]\n",
        "\n",
        "for i, f in enumerate(functions):\n",
        "  term_length = []\n",
        "  for temp in T:\n",
        "    mod_prob_term = f(probability_term / temp) / (f(probability_term / temp) + f(probability_cont / temp))\n",
        "    mod_prob_cont = f(probability_cont / temp) / (f(probability_term / temp) + f(probability_cont / temp))\n",
        "\n",
        "    r = random.uniform(0, mod_prob_term + mod_prob_cont)\n",
        "    iters = 0\n",
        "\n",
        "    while r > mod_prob_term:\n",
        "      r = random.uniform(0, mod_prob_term + mod_prob_cont)\n",
        "      iters += 1\n",
        "\n",
        "    term_length.append(iters)\n",
        "\n",
        "  plt.plot(T, term_length, label=f.__name__)\n",
        "\n",
        "plt.legend()\n",
        "plt.show()\n"
      ],
      "metadata": {
        "colab": {
          "base_uri": "https://localhost:8080/",
          "height": 430
        },
        "id": "g68jPMrNFK8h",
        "outputId": "95cf213a-ebed-437d-9ad7-6737dd03fb9c"
      },
      "id": "g68jPMrNFK8h",
      "execution_count": 48,
      "outputs": [
        {
          "output_type": "display_data",
          "data": {
            "text/plain": [
              "<Figure size 640x480 with 1 Axes>"
            ],
            "image/png": "[encoded data removed]"
          },
          "metadata": {}
        }
      ]
    },
    {
      "cell_type": "markdown",
      "source": [
        "Clearly, this graph isn't exactly what I am looking for. But it may be indicative that there is more going on in the temperature/logits functoin than I have anticipated.\n",
        "\n",
        "This problem ultimiately reduces down to how applying a scaling to the q-probabilities (transition probabilities) of a markov chain walker (where there is a terminating state on the chain) affects the length of the walk.\n",
        "\n",
        "But, the text generation model is different. Text generation models don't simply make random decisions on which token to output, instead they take into consideration the prior history and **then** make a decision on the next token. This completely distinguishes them from markov walkers. If the model was a true markov walker (and ignored prior context) then the sequence length vs temperature graphs would look like they do above.\n",
        "\n",
        "But instead, because it does consider the prior context of constructed sentences, it produces the sigmoid curve as shown."
      ],
      "metadata": {
        "id": "GCqCvzu2LKkn"
      },
      "id": "GCqCvzu2LKkn"
    }
  ],
  "metadata": {
    "accelerator": "GPU",
    "colab": {
      "collapsed_sections": [
        "ea825a80",
        "fce83dfb",
        "5864add1"
      ],
      "gpuType": "T4",
      "provenance": []
    },
    "kernelspec": {
      "display_name": "Python 3",
      "language": "python",
      "name": "python3"
    },
    "language_info": {
      "codemirror_mode": {
        "name": "ipython",
        "version": 3
      },
      "file_extension": ".py",
      "mimetype": "text/x-python",
      "name": "python",
      "nbconvert_exporter": "python",
      "pygments_lexer": "ipython3",
      "version": "3.8.8"
    }
  },
  "nbformat": 4,
  "nbformat_minor": 5
}