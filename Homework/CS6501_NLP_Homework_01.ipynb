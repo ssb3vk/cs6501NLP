{
  "nbformat": 4,
  "nbformat_minor": 0,
  "metadata": {
    "kernelspec": {
      "display_name": "Python 3",
      "language": "python",
      "name": "python3"
    },
    "language_info": {
      "codemirror_mode": {
        "name": "ipython",
        "version": 3
      },
      "file_extension": ".py",
      "mimetype": "text/x-python",
      "name": "python",
      "nbconvert_exporter": "python",
      "pygments_lexer": "ipython3",
      "version": "3.7.6"
    },
    "colab": {
      "provenance": []
    },
    "widgets": {
      "application/vnd.jupyter.widget-state+json": {
        "7836c0f30f464451ab3c8651742023dc": {
          "model_module": "@jupyter-widgets/controls",
          "model_name": "HBoxModel",
          "model_module_version": "1.5.0",
          "state": {
            "_dom_classes": [],
            "_model_module": "@jupyter-widgets/controls",
            "_model_module_version": "1.5.0",
            "_model_name": "HBoxModel",
            "_view_count": null,
            "_view_module": "@jupyter-widgets/controls",
            "_view_module_version": "1.5.0",
            "_view_name": "HBoxView",
            "box_style": "",
            "children": [
              "IPY_MODEL_a2645c57a96f429799eef92dad42a584",
              "IPY_MODEL_be9e237cc4cc4dab857812a81972723d",
              "IPY_MODEL_e916b282be1b46b8ac901136c8765677"
            ],
            "layout": "IPY_MODEL_58c7ea7bbeb54a4ebdce433264408d96"
          }
        },
        "a2645c57a96f429799eef92dad42a584": {
          "model_module": "@jupyter-widgets/controls",
          "model_name": "HTMLModel",
          "model_module_version": "1.5.0",
          "state": {
            "_dom_classes": [],
            "_model_module": "@jupyter-widgets/controls",
            "_model_module_version": "1.5.0",
            "_model_name": "HTMLModel",
            "_view_count": null,
            "_view_module": "@jupyter-widgets/controls",
            "_view_module_version": "1.5.0",
            "_view_name": "HTMLView",
            "description": "",
            "description_tooltip": null,
            "layout": "IPY_MODEL_5a8f17d03352428b8ce66580275cb9a0",
            "placeholder": "​",
            "style": "IPY_MODEL_741241b5cc7a492c958f4be63e00f02b",
            "value": "100%"
          }
        },
        "be9e237cc4cc4dab857812a81972723d": {
          "model_module": "@jupyter-widgets/controls",
          "model_name": "FloatProgressModel",
          "model_module_version": "1.5.0",
          "state": {
            "_dom_classes": [],
            "_model_module": "@jupyter-widgets/controls",
            "_model_module_version": "1.5.0",
            "_model_name": "FloatProgressModel",
            "_view_count": null,
            "_view_module": "@jupyter-widgets/controls",
            "_view_module_version": "1.5.0",
            "_view_name": "ProgressView",
            "bar_style": "success",
            "description": "",
            "description_tooltip": null,
            "layout": "IPY_MODEL_abb1ba8a76334f81927e9008de8697a3",
            "max": 60,
            "min": 0,
            "orientation": "horizontal",
            "style": "IPY_MODEL_981bec2cf34742059f1ee8b6aab13c54",
            "value": 60
          }
        },
        "e916b282be1b46b8ac901136c8765677": {
          "model_module": "@jupyter-widgets/controls",
          "model_name": "HTMLModel",
          "model_module_version": "1.5.0",
          "state": {
            "_dom_classes": [],
            "_model_module": "@jupyter-widgets/controls",
            "_model_module_version": "1.5.0",
            "_model_name": "HTMLModel",
            "_view_count": null,
            "_view_module": "@jupyter-widgets/controls",
            "_view_module_version": "1.5.0",
            "_view_name": "HTMLView",
            "description": "",
            "description_tooltip": null,
            "layout": "IPY_MODEL_a1563953000f4f69bd2af94d339d4123",
            "placeholder": "​",
            "style": "IPY_MODEL_57412bf8302e457b8d27d5df87e9592b",
            "value": " 60/60 [01:23&lt;00:00,  1.38s/it]"
          }
        },
        "58c7ea7bbeb54a4ebdce433264408d96": {
          "model_module": "@jupyter-widgets/base",
          "model_name": "LayoutModel",
          "model_module_version": "1.2.0",
          "state": {
            "_model_module": "@jupyter-widgets/base",
            "_model_module_version": "1.2.0",
            "_model_name": "LayoutModel",
            "_view_count": null,
            "_view_module": "@jupyter-widgets/base",
            "_view_module_version": "1.2.0",
            "_view_name": "LayoutView",
            "align_content": null,
            "align_items": null,
            "align_self": null,
            "border": null,
            "bottom": null,
            "display": null,
            "flex": null,
            "flex_flow": null,
            "grid_area": null,
            "grid_auto_columns": null,
            "grid_auto_flow": null,
            "grid_auto_rows": null,
            "grid_column": null,
            "grid_gap": null,
            "grid_row": null,
            "grid_template_areas": null,
            "grid_template_columns": null,
            "grid_template_rows": null,
            "height": null,
            "justify_content": null,
            "justify_items": null,
            "left": null,
            "margin": null,
            "max_height": null,
            "max_width": null,
            "min_height": null,
            "min_width": null,
            "object_fit": null,
            "object_position": null,
            "order": null,
            "overflow": null,
            "overflow_x": null,
            "overflow_y": null,
            "padding": null,
            "right": null,
            "top": null,
            "visibility": null,
            "width": null
          }
        },
        "5a8f17d03352428b8ce66580275cb9a0": {
          "model_module": "@jupyter-widgets/base",
          "model_name": "LayoutModel",
          "model_module_version": "1.2.0",
          "state": {
            "_model_module": "@jupyter-widgets/base",
            "_model_module_version": "1.2.0",
            "_model_name": "LayoutModel",
            "_view_count": null,
            "_view_module": "@jupyter-widgets/base",
            "_view_module_version": "1.2.0",
            "_view_name": "LayoutView",
            "align_content": null,
            "align_items": null,
            "align_self": null,
            "border": null,
            "bottom": null,
            "display": null,
            "flex": null,
            "flex_flow": null,
            "grid_area": null,
            "grid_auto_columns": null,
            "grid_auto_flow": null,
            "grid_auto_rows": null,
            "grid_column": null,
            "grid_gap": null,
            "grid_row": null,
            "grid_template_areas": null,
            "grid_template_columns": null,
            "grid_template_rows": null,
            "height": null,
            "justify_content": null,
            "justify_items": null,
            "left": null,
            "margin": null,
            "max_height": null,
            "max_width": null,
            "min_height": null,
            "min_width": null,
            "object_fit": null,
            "object_position": null,
            "order": null,
            "overflow": null,
            "overflow_x": null,
            "overflow_y": null,
            "padding": null,
            "right": null,
            "top": null,
            "visibility": null,
            "width": null
          }
        },
        "741241b5cc7a492c958f4be63e00f02b": {
          "model_module": "@jupyter-widgets/controls",
          "model_name": "DescriptionStyleModel",
          "model_module_version": "1.5.0",
          "state": {
            "_model_module": "@jupyter-widgets/controls",
            "_model_module_version": "1.5.0",
            "_model_name": "DescriptionStyleModel",
            "_view_count": null,
            "_view_module": "@jupyter-widgets/base",
            "_view_module_version": "1.2.0",
            "_view_name": "StyleView",
            "description_width": ""
          }
        },
        "abb1ba8a76334f81927e9008de8697a3": {
          "model_module": "@jupyter-widgets/base",
          "model_name": "LayoutModel",
          "model_module_version": "1.2.0",
          "state": {
            "_model_module": "@jupyter-widgets/base",
            "_model_module_version": "1.2.0",
            "_model_name": "LayoutModel",
            "_view_count": null,
            "_view_module": "@jupyter-widgets/base",
            "_view_module_version": "1.2.0",
            "_view_name": "LayoutView",
            "align_content": null,
            "align_items": null,
            "align_self": null,
            "border": null,
            "bottom": null,
            "display": null,
            "flex": null,
            "flex_flow": null,
            "grid_area": null,
            "grid_auto_columns": null,
            "grid_auto_flow": null,
            "grid_auto_rows": null,
            "grid_column": null,
            "grid_gap": null,
            "grid_row": null,
            "grid_template_areas": null,
            "grid_template_columns": null,
            "grid_template_rows": null,
            "height": null,
            "justify_content": null,
            "justify_items": null,
            "left": null,
            "margin": null,
            "max_height": null,
            "max_width": null,
            "min_height": null,
            "min_width": null,
            "object_fit": null,
            "object_position": null,
            "order": null,
            "overflow": null,
            "overflow_x": null,
            "overflow_y": null,
            "padding": null,
            "right": null,
            "top": null,
            "visibility": null,
            "width": null
          }
        },
        "981bec2cf34742059f1ee8b6aab13c54": {
          "model_module": "@jupyter-widgets/controls",
          "model_name": "ProgressStyleModel",
          "model_module_version": "1.5.0",
          "state": {
            "_model_module": "@jupyter-widgets/controls",
            "_model_module_version": "1.5.0",
            "_model_name": "ProgressStyleModel",
            "_view_count": null,
            "_view_module": "@jupyter-widgets/base",
            "_view_module_version": "1.2.0",
            "_view_name": "StyleView",
            "bar_color": null,
            "description_width": ""
          }
        },
        "a1563953000f4f69bd2af94d339d4123": {
          "model_module": "@jupyter-widgets/base",
          "model_name": "LayoutModel",
          "model_module_version": "1.2.0",
          "state": {
            "_model_module": "@jupyter-widgets/base",
            "_model_module_version": "1.2.0",
            "_model_name": "LayoutModel",
            "_view_count": null,
            "_view_module": "@jupyter-widgets/base",
            "_view_module_version": "1.2.0",
            "_view_name": "LayoutView",
            "align_content": null,
            "align_items": null,
            "align_self": null,
            "border": null,
            "bottom": null,
            "display": null,
            "flex": null,
            "flex_flow": null,
            "grid_area": null,
            "grid_auto_columns": null,
            "grid_auto_flow": null,
            "grid_auto_rows": null,
            "grid_column": null,
            "grid_gap": null,
            "grid_row": null,
            "grid_template_areas": null,
            "grid_template_columns": null,
            "grid_template_rows": null,
            "height": null,
            "justify_content": null,
            "justify_items": null,
            "left": null,
            "margin": null,
            "max_height": null,
            "max_width": null,
            "min_height": null,
            "min_width": null,
            "object_fit": null,
            "object_position": null,
            "order": null,
            "overflow": null,
            "overflow_x": null,
            "overflow_y": null,
            "padding": null,
            "right": null,
            "top": null,
            "visibility": null,
            "width": null
          }
        },
        "57412bf8302e457b8d27d5df87e9592b": {
          "model_module": "@jupyter-widgets/controls",
          "model_name": "DescriptionStyleModel",
          "model_module_version": "1.5.0",
          "state": {
            "_model_module": "@jupyter-widgets/controls",
            "_model_module_version": "1.5.0",
            "_model_name": "DescriptionStyleModel",
            "_view_count": null,
            "_view_module": "@jupyter-widgets/base",
            "_view_module_version": "1.2.0",
            "_view_name": "StyleView",
            "description_width": ""
          }
        },
        "7748cbad846240e5b44faf04406d7fce": {
          "model_module": "@jupyter-widgets/controls",
          "model_name": "HBoxModel",
          "model_module_version": "1.5.0",
          "state": {
            "_dom_classes": [],
            "_model_module": "@jupyter-widgets/controls",
            "_model_module_version": "1.5.0",
            "_model_name": "HBoxModel",
            "_view_count": null,
            "_view_module": "@jupyter-widgets/controls",
            "_view_module_version": "1.5.0",
            "_view_name": "HBoxView",
            "box_style": "",
            "children": [
              "IPY_MODEL_1bece1b777d848a6ba4a782c89eb7215",
              "IPY_MODEL_cffd487be4494c73bd2fabf5c5a34d2a",
              "IPY_MODEL_1d669cb7fcc148d78b32e881f4422c6d"
            ],
            "layout": "IPY_MODEL_5293c8e3ae574655917f08673de6348b"
          }
        },
        "1bece1b777d848a6ba4a782c89eb7215": {
          "model_module": "@jupyter-widgets/controls",
          "model_name": "HTMLModel",
          "model_module_version": "1.5.0",
          "state": {
            "_dom_classes": [],
            "_model_module": "@jupyter-widgets/controls",
            "_model_module_version": "1.5.0",
            "_model_name": "HTMLModel",
            "_view_count": null,
            "_view_module": "@jupyter-widgets/controls",
            "_view_module_version": "1.5.0",
            "_view_name": "HTMLView",
            "description": "",
            "description_tooltip": null,
            "layout": "IPY_MODEL_dcc55fa7f76d46458eae8ab3dcd5416c",
            "placeholder": "​",
            "style": "IPY_MODEL_a053f0aa961641af9f9d51819aa513b9",
            "value": "100%"
          }
        },
        "cffd487be4494c73bd2fabf5c5a34d2a": {
          "model_module": "@jupyter-widgets/controls",
          "model_name": "FloatProgressModel",
          "model_module_version": "1.5.0",
          "state": {
            "_dom_classes": [],
            "_model_module": "@jupyter-widgets/controls",
            "_model_module_version": "1.5.0",
            "_model_name": "FloatProgressModel",
            "_view_count": null,
            "_view_module": "@jupyter-widgets/controls",
            "_view_module_version": "1.5.0",
            "_view_name": "ProgressView",
            "bar_style": "success",
            "description": "",
            "description_tooltip": null,
            "layout": "IPY_MODEL_394076e880694576acea74a842af1010",
            "max": 1000,
            "min": 0,
            "orientation": "horizontal",
            "style": "IPY_MODEL_1f7951484d4147a1bbc1e845e13d2850",
            "value": 1000
          }
        },
        "1d669cb7fcc148d78b32e881f4422c6d": {
          "model_module": "@jupyter-widgets/controls",
          "model_name": "HTMLModel",
          "model_module_version": "1.5.0",
          "state": {
            "_dom_classes": [],
            "_model_module": "@jupyter-widgets/controls",
            "_model_module_version": "1.5.0",
            "_model_name": "HTMLModel",
            "_view_count": null,
            "_view_module": "@jupyter-widgets/controls",
            "_view_module_version": "1.5.0",
            "_view_name": "HTMLView",
            "description": "",
            "description_tooltip": null,
            "layout": "IPY_MODEL_c851ac9ebd5d4b028eb86058f65e079e",
            "placeholder": "​",
            "style": "IPY_MODEL_445ea50b4d33439888e4880ca848931b",
            "value": " 1000/1000 [21:20&lt;00:00,  1.34s/it]"
          }
        },
        "5293c8e3ae574655917f08673de6348b": {
          "model_module": "@jupyter-widgets/base",
          "model_name": "LayoutModel",
          "model_module_version": "1.2.0",
          "state": {
            "_model_module": "@jupyter-widgets/base",
            "_model_module_version": "1.2.0",
            "_model_name": "LayoutModel",
            "_view_count": null,
            "_view_module": "@jupyter-widgets/base",
            "_view_module_version": "1.2.0",
            "_view_name": "LayoutView",
            "align_content": null,
            "align_items": null,
            "align_self": null,
            "border": null,
            "bottom": null,
            "display": null,
            "flex": null,
            "flex_flow": null,
            "grid_area": null,
            "grid_auto_columns": null,
            "grid_auto_flow": null,
            "grid_auto_rows": null,
            "grid_column": null,
            "grid_gap": null,
            "grid_row": null,
            "grid_template_areas": null,
            "grid_template_columns": null,
            "grid_template_rows": null,
            "height": null,
            "justify_content": null,
            "justify_items": null,
            "left": null,
            "margin": null,
            "max_height": null,
            "max_width": null,
            "min_height": null,
            "min_width": null,
            "object_fit": null,
            "object_position": null,
            "order": null,
            "overflow": null,
            "overflow_x": null,
            "overflow_y": null,
            "padding": null,
            "right": null,
            "top": null,
            "visibility": null,
            "width": null
          }
        },
        "dcc55fa7f76d46458eae8ab3dcd5416c": {
          "model_module": "@jupyter-widgets/base",
          "model_name": "LayoutModel",
          "model_module_version": "1.2.0",
          "state": {
            "_model_module": "@jupyter-widgets/base",
            "_model_module_version": "1.2.0",
            "_model_name": "LayoutModel",
            "_view_count": null,
            "_view_module": "@jupyter-widgets/base",
            "_view_module_version": "1.2.0",
            "_view_name": "LayoutView",
            "align_content": null,
            "align_items": null,
            "align_self": null,
            "border": null,
            "bottom": null,
            "display": null,
            "flex": null,
            "flex_flow": null,
            "grid_area": null,
            "grid_auto_columns": null,
            "grid_auto_flow": null,
            "grid_auto_rows": null,
            "grid_column": null,
            "grid_gap": null,
            "grid_row": null,
            "grid_template_areas": null,
            "grid_template_columns": null,
            "grid_template_rows": null,
            "height": null,
            "justify_content": null,
            "justify_items": null,
            "left": null,
            "margin": null,
            "max_height": null,
            "max_width": null,
            "min_height": null,
            "min_width": null,
            "object_fit": null,
            "object_position": null,
            "order": null,
            "overflow": null,
            "overflow_x": null,
            "overflow_y": null,
            "padding": null,
            "right": null,
            "top": null,
            "visibility": null,
            "width": null
          }
        },
        "a053f0aa961641af9f9d51819aa513b9": {
          "model_module": "@jupyter-widgets/controls",
          "model_name": "DescriptionStyleModel",
          "model_module_version": "1.5.0",
          "state": {
            "_model_module": "@jupyter-widgets/controls",
            "_model_module_version": "1.5.0",
            "_model_name": "DescriptionStyleModel",
            "_view_count": null,
            "_view_module": "@jupyter-widgets/base",
            "_view_module_version": "1.2.0",
            "_view_name": "StyleView",
            "description_width": ""
          }
        },
        "394076e880694576acea74a842af1010": {
          "model_module": "@jupyter-widgets/base",
          "model_name": "LayoutModel",
          "model_module_version": "1.2.0",
          "state": {
            "_model_module": "@jupyter-widgets/base",
            "_model_module_version": "1.2.0",
            "_model_name": "LayoutModel",
            "_view_count": null,
            "_view_module": "@jupyter-widgets/base",
            "_view_module_version": "1.2.0",
            "_view_name": "LayoutView",
            "align_content": null,
            "align_items": null,
            "align_self": null,
            "border": null,
            "bottom": null,
            "display": null,
            "flex": null,
            "flex_flow": null,
            "grid_area": null,
            "grid_auto_columns": null,
            "grid_auto_flow": null,
            "grid_auto_rows": null,
            "grid_column": null,
            "grid_gap": null,
            "grid_row": null,
            "grid_template_areas": null,
            "grid_template_columns": null,
            "grid_template_rows": null,
            "height": null,
            "justify_content": null,
            "justify_items": null,
            "left": null,
            "margin": null,
            "max_height": null,
            "max_width": null,
            "min_height": null,
            "min_width": null,
            "object_fit": null,
            "object_position": null,
            "order": null,
            "overflow": null,
            "overflow_x": null,
            "overflow_y": null,
            "padding": null,
            "right": null,
            "top": null,
            "visibility": null,
            "width": null
          }
        },
        "1f7951484d4147a1bbc1e845e13d2850": {
          "model_module": "@jupyter-widgets/controls",
          "model_name": "ProgressStyleModel",
          "model_module_version": "1.5.0",
          "state": {
            "_model_module": "@jupyter-widgets/controls",
            "_model_module_version": "1.5.0",
            "_model_name": "ProgressStyleModel",
            "_view_count": null,
            "_view_module": "@jupyter-widgets/base",
            "_view_module_version": "1.2.0",
            "_view_name": "StyleView",
            "bar_color": null,
            "description_width": ""
          }
        },
        "c851ac9ebd5d4b028eb86058f65e079e": {
          "model_module": "@jupyter-widgets/base",
          "model_name": "LayoutModel",
          "model_module_version": "1.2.0",
          "state": {
            "_model_module": "@jupyter-widgets/base",
            "_model_module_version": "1.2.0",
            "_model_name": "LayoutModel",
            "_view_count": null,
            "_view_module": "@jupyter-widgets/base",
            "_view_module_version": "1.2.0",
            "_view_name": "LayoutView",
            "align_content": null,
            "align_items": null,
            "align_self": null,
            "border": null,
            "bottom": null,
            "display": null,
            "flex": null,
            "flex_flow": null,
            "grid_area": null,
            "grid_auto_columns": null,
            "grid_auto_flow": null,
            "grid_auto_rows": null,
            "grid_column": null,
            "grid_gap": null,
            "grid_row": null,
            "grid_template_areas": null,
            "grid_template_columns": null,
            "grid_template_rows": null,
            "height": null,
            "justify_content": null,
            "justify_items": null,
            "left": null,
            "margin": null,
            "max_height": null,
            "max_width": null,
            "min_height": null,
            "min_width": null,
            "object_fit": null,
            "object_position": null,
            "order": null,
            "overflow": null,
            "overflow_x": null,
            "overflow_y": null,
            "padding": null,
            "right": null,
            "top": null,
            "visibility": null,
            "width": null
          }
        },
        "445ea50b4d33439888e4880ca848931b": {
          "model_module": "@jupyter-widgets/controls",
          "model_name": "DescriptionStyleModel",
          "model_module_version": "1.5.0",
          "state": {
            "_model_module": "@jupyter-widgets/controls",
            "_model_module_version": "1.5.0",
            "_model_name": "DescriptionStyleModel",
            "_view_count": null,
            "_view_module": "@jupyter-widgets/base",
            "_view_module_version": "1.2.0",
            "_view_name": "StyleView",
            "description_width": ""
          }
        }
      }
    }
  },
  "cells": [
    {
      "cell_type": "markdown",
      "source": [
        "Submission Deadline: __September 22, 2023; 11:59 PM__\n",
        "\n",
        "A penalty will be applied for late submission. Please refer to the course policy for more detail.  \n",
        "\n",
        "## Instructions\n",
        "\n",
        "Please read the instructions carefully before you start working on the homework.\n",
        "\n",
        "- Please follow instructions and printed out the results as required. Keep the printed results and your implementation for grading purpose.\n",
        "    - The TAs will not run your code for grading purpose unless it is necessary. That means, you may lose some points if the printed results are not in the submitted file.\n",
        "- Submission should be via Canvas.\n",
        "    - If you use Google Colab for running the code, please download the file and submit it via Canvas once it's done.\n",
        "    - Submission via a Google Colab link will be considered as an invalid submission.\n",
        "- Please double check the submitted file once you upload it to Canvas.\n",
        "    - Students should be responsible for checking whether they submit the right files.\n",
        "    - Re-submission is not allowed once the deadline is passed.\n",
        "\n",
        "Also, if you missed the class lectures, please study the course materials first before working on the homework. It may save you some time."
      ],
      "metadata": {
        "id": "jJmKwKKl3LJb"
      }
    },
    {
      "cell_type": "code",
      "source": [
        "!pip install portalocker"
      ],
      "metadata": {
        "id": "aNiMJ9uBsAUE",
        "colab": {
          "base_uri": "https://localhost:8080/"
        },
        "outputId": "11966a89-5af5-4e3b-8476-4a06df8632d3"
      },
      "execution_count": 2,
      "outputs": [
        {
          "output_type": "stream",
          "name": "stdout",
          "text": [
            "Collecting portalocker\n",
            "  Downloading portalocker-2.8.2-py3-none-any.whl (17 kB)\n",
            "Installing collected packages: portalocker\n",
            "Successfully installed portalocker-2.8.2\n"
          ]
        }
      ]
    },
    {
      "cell_type": "markdown",
      "source": [
        "# Task: Paraphrase Detection"
      ],
      "metadata": {
        "id": "bP6ZQkowa49J"
      }
    },
    {
      "cell_type": "markdown",
      "source": [
        "Paraphrase detection is a text classification task, where the input is a pair of texts ($x_1, x_2$), and the output is the label $y$ of whether these two sentences are paraphrases ($y=1$) or not ($y=0$).\n",
        "\n",
        "For example, given the following two sentences\n",
        "\n",
        "- $x_1$: _The DVD-CCA then appealed to the state Supreme Court._\n",
        "- $x_2$: _The DVD CCA appealed that decision to the U.S. Supreme Court._\n",
        "\n",
        "the label $y$ should be $1$, as these two sentence are paraphrases.\n",
        "\n",
        "In this homework, we will use paraphrase detection as an example task of text classification, and build both logistic regression and neural network classifiers for this task.\n",
        "\n",
        "\n",
        "In this homework, we will use the Microsoft Research Paraphrase Corpus (MRPC) as the dataset for paraphrase detection. This is a dataset released"
      ],
      "metadata": {
        "id": "xaISwTIMa_Y0"
      }
    },
    {
      "cell_type": "markdown",
      "source": [
        "# 1 Logistic Regression (4 points)\n",
        "\n",
        "You can refer to the demo code that we used in our class lecture as an example for your implementation. Please pay attention to the difference of the data format and the specific requirements, to make sure your implementation is correct.\n",
        "\n",
        "\n",
        "Although there are different ways to download the MRPC dataset, we will use the one from `torchtext` to keep the consistency with the next section."
      ],
      "metadata": {
        "id": "v-Nmtm_Ba099"
      }
    },
    {
      "cell_type": "code",
      "source": [
        "from torchtext.datasets import MRPC\n",
        "from torchtext.data.functional import to_map_style_dataset\n",
        "\n",
        "trn_iter = MRPC(split='train')\n",
        "dev_iter = MRPC(split='test')\n",
        "\n",
        "# Convert iterable-style dataset to map-style dataset\n",
        "def collect_examples(dat_iter):\n",
        "    label_list, text_list = [], []\n",
        "    for label, text1, text2 in dat_iter:\n",
        "        label_list.append(label)\n",
        "        text_list.append(f\"{text1} {text2}\")\n",
        "    return label_list, text_list\n",
        "\n",
        "trn_labels, trn_texts = collect_examples(trn_iter)\n",
        "dev_labels, dev_texts = collect_examples(dev_iter)"
      ],
      "metadata": {
        "id": "0J_0G25z0PrA"
      },
      "execution_count": 3,
      "outputs": []
    },
    {
      "cell_type": "markdown",
      "source": [
        "## 1.2 Data Processing (2 points)\n",
        "\n",
        "**TODO**: use the following code block to implement the steps for data processing. You can use the functions from [Sklearn](https://scikit-learn.org/stable/).\n",
        "\n",
        "- Create the vocab by\n",
        "    - filtering out the tokens with their frequencies less than 3\n",
        "    - converting all words to lower cases\n",
        "- Convert both `trn_texts` and `dev_texts` to data matrices using the constructed vocab\n",
        "- Report\n",
        "    - the number of words in the vocab\n",
        "    - the dimensions of the two data metrices constructed in the previous steps\n",
        "\n",
        "Please keep the reported the numbers in the file for grading purpose, and add necessary description of the printed results, so we can tell which one is which."
      ],
      "metadata": {
        "id": "IGe9HPMU1bQn"
      }
    },
    {
      "cell_type": "code",
      "source": [
        "from sklearn.feature_extraction.text import CountVectorizer\n",
        "\n",
        "# ========================================\n",
        "# TODO:\n",
        "#   Filter out tokens with count < 3\n",
        "#   All words should be lower case\n",
        "#   both trn_texts and dev_texts should be data matrices\n",
        "# Report:\n",
        "#   Total number of words in vocab\n",
        "#   Dimensions of the two matrices from the prior steps\n",
        "\n",
        "vectorizer = CountVectorizer(lowercase=True, min_df=3)\n",
        "trn_data_matrix = vectorizer.fit_transform(trn_texts)\n",
        "dev_data_matrix = vectorizer.transform(dev_texts)\n",
        "\n",
        "vocab = vectorizer.vocabulary_\n",
        "print(\"Vocab size = {}\".format(len(vocab)))\n",
        "print(\"Size of training data = {}\".format(trn_data_matrix.shape))\n",
        "print(\"Size of testing data = {}\".format(dev_data_matrix.shape))"
      ],
      "metadata": {
        "id": "_7cZroT70kK9",
        "colab": {
          "base_uri": "https://localhost:8080/"
        },
        "outputId": "cde93c87-53bc-4ee4-8195-b7f8c83eb1f8"
      },
      "execution_count": 4,
      "outputs": [
        {
          "output_type": "stream",
          "name": "stdout",
          "text": [
            "Vocab size = 4542\n",
            "Size of training data = (4076, 4542)\n",
            "Size of testing data = (1725, 4542)\n"
          ]
        }
      ]
    },
    {
      "cell_type": "markdown",
      "source": [
        "## 1.3 Logistic Regression Classifier"
      ],
      "metadata": {
        "id": "iTnQPnN7-Gyr"
      }
    },
    {
      "cell_type": "markdown",
      "source": [
        "### 1.3.1 LR without regularization (1 point)\n",
        "\n",
        "**TODO**: Please implement a logistic regression classifier for the paraphrase detection task. You can use the [LogisticRegression](https://scikit-learn.org/stable/modules/generated/sklearn.linear_model.LogisticRegression.html) classifier from Sklearn.\n",
        "\n",
        "\n",
        "Please implement the logistic regression classifier with the following requirements\n",
        "\n",
        "- include the bias term in the classifier\n",
        "- turn off the regularization term (approximately)\n",
        "- use the `liblinear` optimization algorithm (we don't talk about the detail of this algorithm in class, but it converges better when training with the MRPC dataset)\n",
        "\n",
        "Please report\n",
        "\n",
        "- the classification accuracies on both training and validation sets"
      ],
      "metadata": {
        "id": "zDGMckeG3aNz"
      }
    },
    {
      "cell_type": "code",
      "source": [
        "from sklearn.linear_model import LogisticRegression\n",
        "\n",
        "# =============================\n",
        "# TODO:\n",
        "#   Implement a LR classifier with:\n",
        "#     a bias term\n",
        "#     no regularization\n",
        "#       because C is the inverse of the regularization term we want to set C really high\n",
        "#       that way the regularization term is almost 0\n",
        "#\n",
        "#       On second thought this might be achieved by setting penalty to none instead?\n",
        "#       I'll check both\n",
        "#       Not possible, just have to set C really high\n",
        "#       The model tweaks when it has to use the liblinear solver with penalty=None\n",
        "#     use liblinear optimization algorithm\n",
        "\n",
        "classifier01 = LogisticRegression(fit_intercept=True, C=10e10, solver='liblinear')\n",
        "classifier01.fit(trn_data_matrix, trn_labels)\n",
        "\n",
        "#   report:\n",
        "#     classification accuracies on both training and validation sets\n",
        "print(\"Results for classifier with C=10^10\")\n",
        "print(\"Training accuracy = {}\".format(classifier01.score(trn_data_matrix, trn_labels)))\n",
        "print(\"Validation accuracy = {}\".format(classifier01.score(dev_data_matrix, dev_labels)))"
      ],
      "metadata": {
        "id": "duybDz0B3Yut",
        "colab": {
          "base_uri": "https://localhost:8080/"
        },
        "outputId": "59e6dcdd-d164-4824-b342-634db17ce4e5"
      },
      "execution_count": 5,
      "outputs": [
        {
          "output_type": "stream",
          "name": "stdout",
          "text": [
            "Results for classifier with C=10^10\n",
            "Training accuracy = 0.9995093228655545\n",
            "Validation accuracy = 0.6220289855072464\n"
          ]
        }
      ]
    },
    {
      "cell_type": "markdown",
      "source": [
        "### 1.3.2 LR with regularization (1 point)\n",
        "\n",
        "**TODO**: Please implement the LR classifier with the following requirements\n",
        "\n",
        "- include the bias term in the classifier\n",
        "- include the $\\ell_2$ regularization with $\\lambda = 10.0$\n",
        "- use the `liblinear` solver\n",
        "\n",
        "Please report\n",
        "\n",
        "- the classification accuracies on both training and validation sets"
      ],
      "metadata": {
        "id": "FAgQXiF66JrO"
      }
    },
    {
      "cell_type": "code",
      "source": [
        "from sklearn.linear_model import LogisticRegression\n",
        "\n",
        "# =============================\n",
        "# TODO:\n",
        "#   Implement a LR classifier with:\n",
        "#     a bias term in the classifier\n",
        "#     l2 reg with lambda = 10.0\n",
        "#       Becuase C is the equal to 1/lambda, C should be equal to 0.1\n",
        "#     liblinear solver\n",
        "classifier02 = LogisticRegression(penalty=\"l2\", fit_intercept=True, C=0.1, solver='liblinear')\n",
        "classifier02.fit(trn_data_matrix, trn_labels)\n",
        "\n",
        "#   Report:\n",
        "#     classification accuracies of both training and validation sets\n",
        "print(\"Results for classifier with C=0.1, liblinear solver, l2 regularization\")\n",
        "print(\"Training accuracy = {}\".format(classifier02.score(trn_data_matrix, trn_labels)))\n",
        "print(\"Validation accuracy = {}\".format(classifier02.score(dev_data_matrix, dev_labels)))"
      ],
      "metadata": {
        "id": "zFHzqKIH6vII",
        "colab": {
          "base_uri": "https://localhost:8080/"
        },
        "outputId": "e487a38d-5ced-44a1-aefe-2a03cb994f4a"
      },
      "execution_count": 6,
      "outputs": [
        {
          "output_type": "stream",
          "name": "stdout",
          "text": [
            "Results for classifier with C=0.1, liblinear solver, l2 regularization\n",
            "Training accuracy = 0.8626104023552502\n",
            "Validation accuracy = 0.6765217391304348\n"
          ]
        }
      ]
    },
    {
      "cell_type": "markdown",
      "metadata": {
        "id": "VjuD30_uCYF-"
      },
      "source": [
        "# 2 Neural Classifiers (11 points)"
      ]
    },
    {
      "cell_type": "markdown",
      "source": [
        "The following code was adopted from the [demo code]() that we used for our class lectures. Please read the instructions carefully (especially, the **TODO** part in each section), to make sure your implementation is correct."
      ],
      "metadata": {
        "id": "Z4RiOFCrcW7L"
      }
    },
    {
      "cell_type": "code",
      "metadata": {
        "id": "p1UnPprGCYF_"
      },
      "source": [
        "# Necessary packages\n",
        "\n",
        "import sys, os, random, math, sys\n",
        "import torch, spacy\n",
        "import numpy as np\n",
        "from torch import nn\n",
        "from tqdm.notebook import trange, tqdm\n",
        "\n",
        "from matplotlib import pyplot as plt\n",
        "\n",
        "from torch import optim\n",
        "from torch.autograd import Variable\n",
        "from torch.nn.utils import clip_grad_norm_ as clip_grad_norm\n",
        "from torch.nn import functional as F\n",
        "\n",
        "\n",
        "## Random seeds, to make the results reproducible\n",
        "seed = 2\n",
        "random.seed(seed)\n",
        "np.random.seed(seed)\n",
        "torch.manual_seed(seed)\n",
        "torch.cuda.manual_seed_all(seed)\n",
        "torch.backends.cudnn.deterministic = True\n",
        "torch.backends.cudnn.benchmark = False"
      ],
      "execution_count": 7,
      "outputs": []
    },
    {
      "cell_type": "markdown",
      "metadata": {
        "id": "3DBxKPcRCYGF"
      },
      "source": [
        "## 2.1 Data\n",
        "\n",
        "### 2.1.1 Load Data (2 points)"
      ]
    },
    {
      "cell_type": "markdown",
      "source": [
        "Note that\n",
        "\n",
        "- the `basic_english` tokenizer called by the `get_tokenizer` function will first normalize the text then tokenize it using white spaces. This is definitely not the optimal tokenizer, and you can find other options [here](https://pytorch.org/text/stable/data_utils.html#torchtext.data.utils.get_tokenizer). For this homework, we will use this simple tokenizer.\n",
        "\n",
        "**TODO**\n",
        "\n",
        "- Load the dataset `MRPC`\n",
        "- Construct the `vocab` based on the training set with the following requirements\n",
        "    - Filter out the tokens with the frequency less than 3\n",
        "    - Add two special tokens: `<unk>` and `<pad>`\n",
        "    - Set the default word index as the index of the `<unk>` token\n",
        "\n",
        "Please report\n",
        "- Print out the size of the `vocab`\n",
        "\n",
        "Keep the reported results for grading."
      ],
      "metadata": {
        "id": "sTSdyWlvdrcD"
      }
    },
    {
      "cell_type": "code",
      "source": [
        "from torchtext.datasets import MRPC\n",
        "from torchtext.utils import download_from_url\n",
        "from torchtext.data.utils import get_tokenizer, ngrams_iterator\n",
        "from torchtext.vocab import build_vocab_from_iterator\n",
        "\n",
        "ngrams = 1\n",
        "\n",
        "tokenizer = get_tokenizer(\"basic_english\")\n",
        "\n",
        "vocab = None\n",
        "\n",
        "# =============================\n",
        "# TODO:\n",
        "#   Load dataset MRPC\n",
        "#   Construct vocab with\n",
        "#     no tokens with frequency less than 3\n",
        "#     Two special tokens:\n",
        "#       <unk>\n",
        "#       <pad>\n",
        "#     Set default word index as the index of <unk> token\n",
        "#   Report:\n",
        "#     Print out size of the vocab\n",
        "\n",
        "def yield_tokens(data_iter, ngrams):\n",
        "  for label, text1, text2 in data_iter:\n",
        "    # print(\"This is paraphrased: {}\".format(label))\n",
        "    # print(text1)\n",
        "    # print(text2)\n",
        "\n",
        "    # I think we need to do it like this because in the prior example, we combine the first and second sentences\n",
        "    # but here we have each sentence separately\n",
        "    # but I find a greater number of words here. How come?\n",
        "    # yield ngrams_iterator(tokenizer(text1), ngrams)\n",
        "    # print(\"single\")\n",
        "    # print(tokenizer(text1))\n",
        "    # print(\"combo\")\n",
        "    # print(tokenizer(text1) + tokenizer(text2))\n",
        "    yield ngrams_iterator(tokenizer(text1) + tokenizer(text2), ngrams)\n",
        "\n",
        "trn_text_iter02 = MRPC(split='train')\n",
        "tst_text_iter02 = MRPC(split='test')\n",
        "\n",
        "vocab = build_vocab_from_iterator(yield_tokens(trn_text_iter02, ngrams), min_freq=3, specials=[\"<unk>\", \"<pad>\"])\n",
        "vocab.set_default_index(vocab[\"<unk>\"])\n",
        "\n",
        "print(\"Number of words in the vocab: {}\".format(len(vocab)))"
      ],
      "metadata": {
        "id": "vsuz-7b_OHMZ",
        "colab": {
          "base_uri": "https://localhost:8080/"
        },
        "outputId": "29fa6b14-d01c-4c8f-f065-6d116eb85d1f"
      },
      "execution_count": 8,
      "outputs": [
        {
          "output_type": "stream",
          "name": "stdout",
          "text": [
            "Number of words in the vocab: 6229\n"
          ]
        }
      ]
    },
    {
      "cell_type": "markdown",
      "metadata": {
        "id": "9TmYbPs_CYGI"
      },
      "source": [
        "\n",
        "### 2.1.2 Data Preprocessing Functions (2 points)"
      ]
    },
    {
      "cell_type": "markdown",
      "source": [
        "The following code block does two things\n",
        "\n",
        "- create mini-batches\n",
        "- convert texts into numeric vectors (tensors)\n",
        "\n",
        "**TODO**\n",
        "\n",
        "- For each mini batch, set its own cutoff length\n",
        "    - By default, set the cutoff length to be the longest text in that minibatch\n",
        "    - If the length is larger than 50, set it to be 50"
      ],
      "metadata": {
        "id": "bRIDDg7YfM3A"
      }
    },
    {
      "cell_type": "code",
      "source": [
        "cutoff_threshold = 50\n",
        "\n",
        "def text_pipeline(x):\n",
        "    \"\"\" Read the tokens from text x and return the list of word indices\n",
        "    \"\"\"\n",
        "    return vocab(list(ngrams_iterator(tokenizer(x), ngrams)))\n",
        "\n",
        "def collate_batch(batch):\n",
        "    \"\"\" Construct the text/label tensors based on a mini-batch of texts and their labels\n",
        "    \"\"\"\n",
        "    label_tensor, text_tensor = None, None\n",
        "    # =============================\n",
        "    # TODO:\n",
        "    #   For each mini batch, set cutoff length\n",
        "    #   Set cutoff to be longest text in minbatch\n",
        "    #    if longer than 50, set to 50\n",
        "\n",
        "    max_length = 50\n",
        "    longest_text_length = 0\n",
        "\n",
        "    label_list, text_list = [], []\n",
        "\n",
        "    # we can't do this quite the way the prof has it\n",
        "    # instead we need to set the max_length equal to the min of the real cutoff length\n",
        "    # or the longest text in the batch\n",
        "    # so lets process everything and store them in an intermediary ds\n",
        "    # compute the longest length\n",
        "    # and then apply the below value\n",
        "    # print(batch)\n",
        "    for (_label, _text1, _text2) in batch:\n",
        "      processed_text1 = text_pipeline(_text1)\n",
        "      processed_text2 = text_pipeline(_text2)\n",
        "      longest_text_length = max(longest_text_length, len(processed_text1) + len(processed_text2))\n",
        "\n",
        "\n",
        "    for (_label, _text1, _text2) in batch:\n",
        "      label_list.append(_label)\n",
        "      processed_text = text_pipeline(_text1)\n",
        "      processed_text += text_pipeline(_text2)\n",
        "\n",
        "      if len(processed_text) < min(max_length, longest_text_length):\n",
        "        processed_text += [vocab[\"<pad>\"]]*(min(max_length, longest_text_length)-len(processed_text))\n",
        "      elif len(processed_text) > min(max_length, longest_text_length):\n",
        "        processed_text = processed_text[:min(max_length, longest_text_length)]\n",
        "\n",
        "      text_list.append(torch.tensor(processed_text))\n",
        "\n",
        "    label_tensor = torch.tensor(label_list, dtype=torch.int64)\n",
        "\n",
        "    text_tensor = torch.stack(tuple(text_list))\n",
        "\n",
        "    # Do I need this line?\n",
        "    text_tensor = torch.transpose(text_tensor, 0, 1)\n",
        "\n",
        "    return label_tensor, text_tensor"
      ],
      "metadata": {
        "id": "XiAeGq_9LT7O"
      },
      "execution_count": 9,
      "outputs": []
    },
    {
      "cell_type": "markdown",
      "source": [
        "### 2.1.3 Data Processing (1 point)\n",
        "\n",
        "\n",
        "Call the functions defined in the previous code block to process both the `training` and `dev` sets\n",
        "\n",
        "**TODO**\n",
        "\n",
        "- Load the training and test sets\n",
        "- Construct mini-batches for training and evaluation with mini-batch size as 32"
      ],
      "metadata": {
        "id": "aLJdW9asIjDC"
      }
    },
    {
      "cell_type": "code",
      "source": [
        "from torchtext.data.functional import to_map_style_dataset\n",
        "from torch.utils.data import DataLoader\n",
        "\n",
        "# Mini-batch size\n",
        "batch_size = 32\n",
        "\n",
        "# Read the data again\n",
        "trn_iter = MRPC(split='train')\n",
        "dev_iter = MRPC(split='test')\n",
        "\n",
        "trn_dataloader, dev_dataloader = None, None\n",
        "\n",
        "# =============================\n",
        "# TODO:\n",
        "#   Load training/test sets\n",
        "#   Construct mini-batches with size 32\n",
        "\n",
        "trn_dataset = to_map_style_dataset(trn_text_iter02)\n",
        "tst_dataset = to_map_style_dataset(tst_text_iter02)\n",
        "\n",
        "trn_dataloader = DataLoader(trn_dataset, batch_size=batch_size, shuffle=False, collate_fn=collate_batch)\n",
        "dev_dataloader = DataLoader(tst_dataset, batch_size=batch_size, shuffle=False, collate_fn=collate_batch)"
      ],
      "metadata": {
        "id": "5rbN7QBqDAYB"
      },
      "execution_count": 10,
      "outputs": []
    },
    {
      "cell_type": "markdown",
      "metadata": {
        "id": "6jzIv2TJCYGR"
      },
      "source": [
        "## 2.2 A Simple Feed-forward Neural Network Classifier"
      ]
    },
    {
      "cell_type": "markdown",
      "metadata": {
        "id": "liOIycY4CYGS"
      },
      "source": [
        "The goal of this section is to demonstrate\n",
        "\n",
        "- how to define a simple neural text classifier\n",
        "- how to train the neural network model with the BP algorithm"
      ]
    },
    {
      "cell_type": "markdown",
      "metadata": {
        "id": "ipDEfDuxCYGS"
      },
      "source": [
        "### 2.2.1 Define Neural Network Models (2 points)"
      ]
    },
    {
      "cell_type": "markdown",
      "metadata": {
        "id": "-BFPVQtZCYGT"
      },
      "source": [
        "This section defines a basic neural network model (as illustrated in the following figure) for text classification.\n",
        "\n",
        "**TODO**\n",
        "\n",
        "Please follow the specification to implement the neural network model. Compared to the single layer neural network model, the following neural network will add another hidden layer, which is a fully-connected neural network.\n",
        "\n",
        "1. From input layer to the first hidden layer: for a given text $x$\n",
        "\n",
        "$$h^{(1)} = \\sigma (x_1 + x_2 + \\cdots + x_N)$$\n",
        "\n",
        "where $\\{w_1, x_2, \\cdots, w_N\\}$ is the corresponding word embeddings in the text $x$. This is a mathematical formulation. In the actual implementation, it also involves adding the embeddings of some padding tokens.\n",
        "\n",
        "2. From the first hidden layer to the second hidden layer\n",
        "\n",
        "$$h^{(2)} = \\sigma (W^{(2)}\\cdot h^{(1)})$$\n",
        "\n",
        "where $W^{(2)}$ is the learnable parameter for the second layer.\n",
        "\n",
        "3. From the second hidden layer to the classification layer\n",
        "\n",
        "$$p(y) =\\text{Softmax}(W^{(o)} h^{(2)}) $$\n",
        "\n",
        "where $W^{(o)}$ is the learnable parameter for the classification layer."
      ]
    },
    {
      "cell_type": "code",
      "metadata": {
        "id": "oJi1a3WqCYGU"
      },
      "source": [
        "class NeuralClassifier(nn.Module):\n",
        "    def __init__(self, vocab_size, embed_size, hidden_size, class_size=2):\n",
        "        super(NeuralClassifier, self).__init__()\n",
        "        \"\"\" Initialization\n",
        "        - vocab_size\n",
        "        - embed_size: word embedding size\n",
        "        - drop_rate: dropout rate\n",
        "        - class_size: number of classes. For binary classification, class_size = 2\n",
        "        \"\"\"\n",
        "        # ---------------------------------\n",
        "        # Configuration\n",
        "        self.vocab_size = vocab_size # size of the vocab\n",
        "        self.class_size = class_size # number of classes\n",
        "\n",
        "        # ==================================\n",
        "        # TODO:\n",
        "        self.embed = nn.Embedding(vocab_size, embed_size)\n",
        "        self.fc1 = nn.Linear(embed_size, hidden_size, bias=True)\n",
        "        self.fc2 = nn.Linear(hidden_size, class_size, bias=True)\n",
        "        # END of TODO\n",
        "        # ==================================\n",
        "\n",
        "\n",
        "    def forward(self, batch):\n",
        "        \"\"\" Forward function\n",
        "        \"\"\"\n",
        "        label, text = batch\n",
        "\n",
        "        # =================================\n",
        "        # TODO:\n",
        "        # Hidden Layer 1\n",
        "        embedded = self.embed(text)\n",
        "        hidden01 = torch.sigmoid(embedded.sum(axis=0))\n",
        "        hidden02 = torch.sigmoid(self.fc1(hidden01))\n",
        "        logit = self.fc2(hidden02)\n",
        "        # Hidden Layer 2\n",
        "        logprob = F.log_softmax(logit, dim=1)\n",
        "\n",
        "        # END of TODO\n",
        "        # ==================================\n",
        "        loss = F.cross_entropy(logprob, label)\n",
        "        return loss, logprob\n"
      ],
      "execution_count": 11,
      "outputs": []
    },
    {
      "cell_type": "markdown",
      "metadata": {
        "id": "UQHc7nAdCYGa"
      },
      "source": [
        "## 2.3 Neural Network Training"
      ]
    },
    {
      "cell_type": "markdown",
      "metadata": {
        "id": "Z-AoPumeCYGa"
      },
      "source": [
        "### 2.3.1 Additional functions for mini-batch training and evaluation\n",
        "\n",
        "Define the training function with a mini-batch\n"
      ]
    },
    {
      "cell_type": "code",
      "metadata": {
        "id": "gln7RULKCYGb"
      },
      "source": [
        "def batch_train(batch, model, optimizer):\n",
        "    \"\"\" Training with one batch\n",
        "    - batch: a min-batch of the data\n",
        "    - model: the defined neural network\n",
        "    - optimizer: optimization method used to update the parameters\n",
        "    \"\"\"\n",
        "    # set in training mode\n",
        "    model.train()\n",
        "    # initialize optimizer\n",
        "    optimizer.zero_grad()\n",
        "    # forward: prediction\n",
        "    loss, _ = model(batch)\n",
        "    # backward: gradient computation\n",
        "    loss.backward()\n",
        "    # norm clipping, in case the gradient norm is too large\n",
        "    clip_grad_norm(model.parameters(), 1.0)\n",
        "    # gradient-based update parameter\n",
        "    optimizer.step()\n",
        "    return model, loss.item()"
      ],
      "execution_count": 12,
      "outputs": []
    },
    {
      "cell_type": "markdown",
      "metadata": {
        "id": "3vVzlBabCYGd"
      },
      "source": [
        "Define the evaluation function"
      ]
    },
    {
      "cell_type": "code",
      "metadata": {
        "id": "C587Yh54CYGd"
      },
      "source": [
        "def eval(data_iter, model):\n",
        "    \"\"\" Evaluate the model with the data\n",
        "    data_iter: the data iterator\n",
        "    model: the defined model\n",
        "    \"\"\"\n",
        "    # set in the eval model, which will trun off the features only used for training, such as droput\n",
        "    model.eval()\n",
        "    # records\n",
        "    val_loss, val_batch = 0, 0\n",
        "    total_example, correct_pred = 0, 0\n",
        "    # iterate all the mini batches for evaluation\n",
        "    for b, batch in enumerate(data_iter):\n",
        "        # Forward: prediction\n",
        "        label, _ = batch\n",
        "        loss, logprob = model(batch)\n",
        "        #\n",
        "        val_batch += 1\n",
        "        val_loss += loss\n",
        "        # Argmax\n",
        "        max_logprob, pred_label = torch.max(logprob, -1)\n",
        "        correct_pred += (pred_label==label).sum()\n",
        "        total_example += label.size()[0]\n",
        "    acc = (1.0*correct_pred)/total_example\n",
        "    return (val_loss/val_batch).item(), acc"
      ],
      "execution_count": 13,
      "outputs": []
    },
    {
      "cell_type": "markdown",
      "metadata": {
        "id": "zPwEpuNpCYGf"
      },
      "source": [
        "### 2.3.2 Main function for training (2 points)\n",
        "\n",
        "**TODO**\n",
        "\n",
        "In the following code, please implement the main function for training and validation with the requirements\n",
        "\n",
        "- Size of the neural network classifier\n",
        "    - embedding size: 16\n",
        "    - hidden size: 32\n",
        "- Optimizer\n",
        "    - use the SGD optimizer\n",
        "    - learning rate: 0.05\n",
        "    - weight decay coefficient: 0.0\n",
        "- Training epochs: 60\n",
        "- Validation:\n",
        "    - Run validation after every 100 steps\n",
        "    - Record the validation loss `ValLoss` and validation accuracy `ValAcc`\n",
        "    - Record the average training loss `TrnLoss` across all the training steps so far\n",
        "\n",
        "\n",
        "Please report\n",
        "\n",
        "- the best prediction accuracy on the validation set\n",
        "- the prediction accuracy with the model at the end of the training\n",
        "\n",
        "Please keep the reported numbers for grading purpose.\n",
        "\n",
        "Note that, the best prediction accuracy should be higher than 68%"
      ]
    },
    {
      "cell_type": "code",
      "metadata": {
        "scrolled": true,
        "id": "wGfN4h0_CYGf",
        "colab": {
          "base_uri": "https://localhost:8080/",
          "height": 84,
          "referenced_widgets": [
            "7836c0f30f464451ab3c8651742023dc",
            "a2645c57a96f429799eef92dad42a584",
            "be9e237cc4cc4dab857812a81972723d",
            "e916b282be1b46b8ac901136c8765677",
            "58c7ea7bbeb54a4ebdce433264408d96",
            "5a8f17d03352428b8ce66580275cb9a0",
            "741241b5cc7a492c958f4be63e00f02b",
            "abb1ba8a76334f81927e9008de8697a3",
            "981bec2cf34742059f1ee8b6aab13c54",
            "a1563953000f4f69bd2af94d339d4123",
            "57412bf8302e457b8d27d5df87e9592b"
          ]
        },
        "outputId": "4fb6ee9a-b9b6-46fb-86bd-62a9ea21a00c"
      },
      "source": [
        "# -----------------------------------\n",
        "vocab_size = len(vocab)\n",
        "torch.manual_seed(seed)\n",
        "TrnLoss, ValLoss, ValAcc = [], [], []\n",
        "\n",
        "# =====================================\n",
        "# TODO:\n",
        "#   embedding size: 16\n",
        "#   hidden size: 32\n",
        "model = NeuralClassifier(vocab_size, embed_size=16, hidden_size=32)\n",
        "# optimizer\n",
        "#   SGD optimizer\n",
        "#     0.05 learning rate\n",
        "#     0.0 weight decay coeff\n",
        "optimizer = optim.SGD(model.parameters(), lr=0.05, weight_decay=0)\n",
        "# training epochs: 60\n",
        "epoch = 60\n",
        "# Validation\n",
        "#   every 100 steps\n",
        "#   Validation loss as ValLoss nad validation accuracy ValAcc\n",
        "#   Average training loss TrnLoss across all training steps\n",
        "val_step = 100\n",
        "\n",
        "total_batch = 0\n",
        "total_loss = 0.0\n",
        "for e in trange(epoch):\n",
        "  # print(\"e:\")\n",
        "  # print(e)\n",
        "  for b, batch in enumerate(trn_dataloader):\n",
        "    # print(b)\n",
        "    # print(batch)\n",
        "    total_batch += 1\n",
        "\n",
        "    model, loss = batch_train(batch, model, optimizer)\n",
        "    total_loss += loss\n",
        "\n",
        "    if total_batch % val_step == 0:\n",
        "      val_loss, val_acc = eval(dev_dataloader, model)\n",
        "      ValLoss.append(val_loss)\n",
        "      ValAcc.append(val_acc)\n",
        "      TrnLoss.append(total_loss/total_batch)\n",
        "\n",
        "# Report\n",
        "#   Best prediction accuracy on validaiton set\n",
        "#   Prediction accuracy at end of training\n",
        "print(\"The best validation accuracy = {}\".format(max(ValAcc)))\n",
        "print(\"Final prediction accuracy = {}\".format(ValAcc[-1]))"
      ],
      "execution_count": 14,
      "outputs": [
        {
          "output_type": "display_data",
          "data": {
            "text/plain": [
              "  0%|          | 0/60 [00:00<?, ?it/s]"
            ],
            "application/vnd.jupyter.widget-view+json": {
              "version_major": 2,
              "version_minor": 0,
              "model_id": "7836c0f30f464451ab3c8651742023dc"
            }
          },
          "metadata": {}
        },
        {
          "output_type": "stream",
          "name": "stdout",
          "text": [
            "The best validation accuracy = 0.6788405776023865\n",
            "Final prediction accuracy = 0.6759420037269592\n"
          ]
        }
      ]
    },
    {
      "cell_type": "markdown",
      "metadata": {
        "id": "bMgiweOACYGh"
      },
      "source": [
        "### 2.3.3 Training analysis (2 points)\n",
        "\n",
        "Run the following code block to visualize the training and validation losses. Based on the loss curves, answer the following question.\n",
        "\n",
        "- Is the model sufficient trained?\n",
        "- What is the your evidence to the first question?\n",
        "\n",
        "Please use the text block under the figure to fill in your answer"
      ]
    },
    {
      "cell_type": "code",
      "metadata": {
        "id": "v2grSvTwCYGh",
        "colab": {
          "base_uri": "https://localhost:8080/",
          "height": 466
        },
        "outputId": "1a085028-4a62-43c2-fba9-3d358fcad431"
      },
      "source": [
        "plt.plot(range(len(TrnLoss)), TrnLoss, color=\"red\", label=\"Training Loss\") # Training loss\n",
        "plt.plot(range(len(ValLoss)), ValLoss, color=\"blue\", label=\"Development Loss\") # Val loss\n",
        "plt.xlabel(\"Steps\")\n",
        "plt.ylabel(\"NLL\")\n",
        "plt.legend()"
      ],
      "execution_count": 15,
      "outputs": [
        {
          "output_type": "execute_result",
          "data": {
            "text/plain": [
              "<matplotlib.legend.Legend at 0x7d81ad6e50f0>"
            ]
          },
          "metadata": {},
          "execution_count": 15
        },
        {
          "output_type": "display_data",
          "data": {
            "text/plain": [
              "<Figure size 640x480 with 1 Axes>"
            ],
            "image/png": "[encoded data removed]"
          },
          "metadata": {}
        }
      ]
    },
    {
      "cell_type": "markdown",
      "source": [
        "**Is the model sufficiently trained?**\n",
        "\n",
        "By viewing the graph, we can see tha the model is not sufficiently trained. We can come to this conclusion based off two aspects of the graph. First we can see that the training and validation/development loss lines still have a downward slope, they still have not plateaued. This indicates that further training can improve the model's performance.\n",
        "\n",
        "Additionally, we do not see a significant spike in the validation/development loss. This indicates that the model is still able to generalize well and hasn't overfit to the training data. While typically one does not train a model to the point of overfitting, the lack of overfitting is a direct indicator that further training can still be beneficial.\n",
        "\n",
        "TLDR: model is not sufficiently trained because loss curves have not yet plateaued."
      ],
      "metadata": {
        "id": "h4bHEhsy_eIx"
      }
    },
    {
      "cell_type": "markdown",
      "source": [
        "## 2.4 Further Improvement (2 points)\n",
        "\n",
        "There are several hyper-parameters that we can tune to get better results. Here are five of them\n",
        "\n",
        "- Number of epochs\n",
        "- Learning rate\n",
        "- Size of word embeddings\n",
        "- Size of hidden dimensions\n",
        "- Weight decay\n",
        "\n",
        "Based on your implementation in section 2.2.2, feel free to modify any hyper-parameters and try to get a better prediction accuracy on the validation set. The result should be at least 0.5% better than the best prediction accuracy on the validation set reported in section 2.2.2.\n",
        "\n",
        "Please report\n",
        "\n",
        "- the best prediction accuracy on the validation set and\n",
        "- the specific values of the hyper-parameters used to produce the best result\n",
        "\n",
        "Keep the numbers in the file for grading."
      ],
      "metadata": {
        "id": "sVLR35W4Alz7"
      }
    },
    {
      "cell_type": "code",
      "source": [
        "vocab_size = len(vocab)\n",
        "torch.manual_seed(seed)\n",
        "TrnLoss, ValLoss, ValAcc = [], [], []\n",
        "\n",
        "# Hyper parameters\n",
        "epoch = 1000\n",
        "lr = 0.05\n",
        "embed_size = 16\n",
        "hidden_size = 32\n",
        "weight_decay = 0.001\n",
        "\n",
        "# ======================================\n",
        "# TODO: add your implementation here and run it\n",
        "model = NeuralClassifier(vocab_size, embed_size=embed_size, hidden_size=hidden_size)\n",
        "optimizer = optim.SGD(model.parameters(), lr=lr, weight_decay=weight_decay)\n",
        "val_step = 100\n",
        "\n",
        "total_batch = 0\n",
        "total_loss = 0.0\n",
        "for e in trange(epoch):\n",
        "  # print(\"e:\")\n",
        "  # print(e)\n",
        "  for b, batch in enumerate(trn_dataloader):\n",
        "    # print(b)\n",
        "    # print(batch)\n",
        "    total_batch += 1\n",
        "\n",
        "    model, loss = batch_train(batch, model, optimizer)\n",
        "    total_loss += loss\n",
        "\n",
        "    if total_batch % val_step == 0:\n",
        "      val_loss, val_acc = eval(dev_dataloader, model)\n",
        "      ValLoss.append(val_loss)\n",
        "      ValAcc.append(val_acc)\n",
        "      TrnLoss.append(total_loss/total_batch)\n",
        "\n",
        "# Report\n",
        "#   Best prediction accuracy on validaiton set\n",
        "#   Prediction accuracy at end of training\n",
        "print(\"The best validation accuracy = {}\".format(max(ValAcc)))\n",
        "print(\"Final prediction accuracy = {}\".format(ValAcc[-1]))\n",
        "print(\"Number of epochs = {}\".format(epoch))\n",
        "print(\"Learning Rate = {}\".format(lr))\n",
        "print(\"Size of word embeddings = {}\".format(embed_size))\n",
        "print(\"Size of hidden dimensions = {}\".format(hidden_size))\n",
        "print(\"Weight decay = {}\".format(weight_decay))"
      ],
      "metadata": {
        "id": "Uu7R28RVhE3W",
        "colab": {
          "base_uri": "https://localhost:8080/",
          "height": 171,
          "referenced_widgets": [
            "7748cbad846240e5b44faf04406d7fce",
            "1bece1b777d848a6ba4a782c89eb7215",
            "cffd487be4494c73bd2fabf5c5a34d2a",
            "1d669cb7fcc148d78b32e881f4422c6d",
            "5293c8e3ae574655917f08673de6348b",
            "dcc55fa7f76d46458eae8ab3dcd5416c",
            "a053f0aa961641af9f9d51819aa513b9",
            "394076e880694576acea74a842af1010",
            "1f7951484d4147a1bbc1e845e13d2850",
            "c851ac9ebd5d4b028eb86058f65e079e",
            "445ea50b4d33439888e4880ca848931b"
          ]
        },
        "outputId": "93fc841d-7961-4f01-f37b-767aa8535f4a"
      },
      "execution_count": 16,
      "outputs": [
        {
          "output_type": "display_data",
          "data": {
            "text/plain": [
              "  0%|          | 0/1000 [00:00<?, ?it/s]"
            ],
            "application/vnd.jupyter.widget-view+json": {
              "version_major": 2,
              "version_minor": 0,
              "model_id": "7748cbad846240e5b44faf04406d7fce"
            }
          },
          "metadata": {}
        },
        {
          "output_type": "stream",
          "name": "stdout",
          "text": [
            "The best validation accuracy = 0.6898550987243652\n",
            "Final prediction accuracy = 0.6486956477165222\n",
            "Number of epochs = 1000\n",
            "Learning Rate = 0.05\n",
            "Size of word embeddings = 16\n",
            "Size of hidden dimensions = 32\n",
            "Weight decay = 0.001\n"
          ]
        }
      ]
    },
    {
      "cell_type": "code",
      "source": [
        "plt.plot(range(len(TrnLoss)), TrnLoss, color=\"red\", label=\"Training Loss\") # Training loss\n",
        "plt.plot(range(len(ValLoss)), ValLoss, color=\"blue\", label=\"Development Loss\") # Val loss\n",
        "plt.xlabel(\"Steps\")\n",
        "plt.ylabel(\"NLL\")\n",
        "plt.legend()"
      ],
      "metadata": {
        "colab": {
          "base_uri": "https://localhost:8080/",
          "height": 466
        },
        "id": "AFS2m_xCt8UX",
        "outputId": "9f6e0624-aee6-4f7f-f8f0-9f6f0a069b2c"
      },
      "execution_count": 17,
      "outputs": [
        {
          "output_type": "execute_result",
          "data": {
            "text/plain": [
              "<matplotlib.legend.Legend at 0x7d81a5a9a4d0>"
            ]
          },
          "metadata": {},
          "execution_count": 17
        },
        {
          "output_type": "display_data",
          "data": {
            "text/plain": [
              "<Figure size 640x480 with 1 Axes>"
            ],
            "image/png": "[encoded data removed]"
          },
          "metadata": {}
        }
      ]
    },
    {
      "cell_type": "markdown",
      "source": [
        "**End of the homework 01**\n",
        "\n",
        "---"
      ],
      "metadata": {
        "id": "sNfF0NqTGrK8"
      }
    }
  ]
}